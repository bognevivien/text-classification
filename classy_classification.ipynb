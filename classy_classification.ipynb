{
  "nbformat": 4,
  "nbformat_minor": 0,
  "metadata": {
    "colab": {
      "provenance": [],
      "collapsed_sections": [
        "RhEcHkW_Yjqz",
        "rXfXbgTgXLuJ",
        "iKFb47B4X-L1",
        "q_p76-0qXQ2o",
        "dDUlFIVVy5DF",
        "AY7Y6ny0y-BA"
      ],
      "include_colab_link": true
    },
    "kernelspec": {
      "name": "python3",
      "display_name": "Python 3"
    },
    "language_info": {
      "name": "python"
    },
    "accelerator": "GPU",
    "gpuClass": "premium",
    "widgets": {
      "application/vnd.jupyter.widget-state+json": {
        "0323fa84035d4bde84e477b865a3e5ff": {
          "model_module": "@jupyter-widgets/controls",
          "model_name": "HBoxModel",
          "model_module_version": "1.5.0",
          "state": {
            "_dom_classes": [],
            "_model_module": "@jupyter-widgets/controls",
            "_model_module_version": "1.5.0",
            "_model_name": "HBoxModel",
            "_view_count": null,
            "_view_module": "@jupyter-widgets/controls",
            "_view_module_version": "1.5.0",
            "_view_name": "HBoxView",
            "box_style": "",
            "children": [
              "IPY_MODEL_fe37352a87764ff6b7b9c9e3db5091f2",
              "IPY_MODEL_0abfa3d655ae4f509fc71499c578526d",
              "IPY_MODEL_83fe84c806ad45c6b77e9b2d30c0cdf9"
            ],
            "layout": "IPY_MODEL_5c171c1d681f4cc794abf28720827b5f"
          }
        },
        "fe37352a87764ff6b7b9c9e3db5091f2": {
          "model_module": "@jupyter-widgets/controls",
          "model_name": "HTMLModel",
          "model_module_version": "1.5.0",
          "state": {
            "_dom_classes": [],
            "_model_module": "@jupyter-widgets/controls",
            "_model_module_version": "1.5.0",
            "_model_name": "HTMLModel",
            "_view_count": null,
            "_view_module": "@jupyter-widgets/controls",
            "_view_module_version": "1.5.0",
            "_view_name": "HTMLView",
            "description": "",
            "description_tooltip": null,
            "layout": "IPY_MODEL_0195c151ac234bc58d898346672a6ed9",
            "placeholder": "​",
            "style": "IPY_MODEL_d9f4e04e98214194a1bc9c7a955b11fa",
            "value": "Downloading config.json: 100%"
          }
        },
        "0abfa3d655ae4f509fc71499c578526d": {
          "model_module": "@jupyter-widgets/controls",
          "model_name": "FloatProgressModel",
          "model_module_version": "1.5.0",
          "state": {
            "_dom_classes": [],
            "_model_module": "@jupyter-widgets/controls",
            "_model_module_version": "1.5.0",
            "_model_name": "FloatProgressModel",
            "_view_count": null,
            "_view_module": "@jupyter-widgets/controls",
            "_view_module_version": "1.5.0",
            "_view_name": "ProgressView",
            "bar_style": "success",
            "description": "",
            "description_tooltip": null,
            "layout": "IPY_MODEL_e1cbeb2412f24b12ade612aa2e8e8eec",
            "max": 625,
            "min": 0,
            "orientation": "horizontal",
            "style": "IPY_MODEL_6395c38595354cd3bf67d6caaa1abbb5",
            "value": 625
          }
        },
        "83fe84c806ad45c6b77e9b2d30c0cdf9": {
          "model_module": "@jupyter-widgets/controls",
          "model_name": "HTMLModel",
          "model_module_version": "1.5.0",
          "state": {
            "_dom_classes": [],
            "_model_module": "@jupyter-widgets/controls",
            "_model_module_version": "1.5.0",
            "_model_name": "HTMLModel",
            "_view_count": null,
            "_view_module": "@jupyter-widgets/controls",
            "_view_module_version": "1.5.0",
            "_view_name": "HTMLView",
            "description": "",
            "description_tooltip": null,
            "layout": "IPY_MODEL_765bbfed17554b1fb2b9129c10d61f3e",
            "placeholder": "​",
            "style": "IPY_MODEL_b79dd5913f534e4b845d26f1c9653dd8",
            "value": " 625/625 [00:00&lt;00:00, 22.4kB/s]"
          }
        },
        "5c171c1d681f4cc794abf28720827b5f": {
          "model_module": "@jupyter-widgets/base",
          "model_name": "LayoutModel",
          "model_module_version": "1.2.0",
          "state": {
            "_model_module": "@jupyter-widgets/base",
            "_model_module_version": "1.2.0",
            "_model_name": "LayoutModel",
            "_view_count": null,
            "_view_module": "@jupyter-widgets/base",
            "_view_module_version": "1.2.0",
            "_view_name": "LayoutView",
            "align_content": null,
            "align_items": null,
            "align_self": null,
            "border": null,
            "bottom": null,
            "display": null,
            "flex": null,
            "flex_flow": null,
            "grid_area": null,
            "grid_auto_columns": null,
            "grid_auto_flow": null,
            "grid_auto_rows": null,
            "grid_column": null,
            "grid_gap": null,
            "grid_row": null,
            "grid_template_areas": null,
            "grid_template_columns": null,
            "grid_template_rows": null,
            "height": null,
            "justify_content": null,
            "justify_items": null,
            "left": null,
            "margin": null,
            "max_height": null,
            "max_width": null,
            "min_height": null,
            "min_width": null,
            "object_fit": null,
            "object_position": null,
            "order": null,
            "overflow": null,
            "overflow_x": null,
            "overflow_y": null,
            "padding": null,
            "right": null,
            "top": null,
            "visibility": null,
            "width": null
          }
        },
        "0195c151ac234bc58d898346672a6ed9": {
          "model_module": "@jupyter-widgets/base",
          "model_name": "LayoutModel",
          "model_module_version": "1.2.0",
          "state": {
            "_model_module": "@jupyter-widgets/base",
            "_model_module_version": "1.2.0",
            "_model_name": "LayoutModel",
            "_view_count": null,
            "_view_module": "@jupyter-widgets/base",
            "_view_module_version": "1.2.0",
            "_view_name": "LayoutView",
            "align_content": null,
            "align_items": null,
            "align_self": null,
            "border": null,
            "bottom": null,
            "display": null,
            "flex": null,
            "flex_flow": null,
            "grid_area": null,
            "grid_auto_columns": null,
            "grid_auto_flow": null,
            "grid_auto_rows": null,
            "grid_column": null,
            "grid_gap": null,
            "grid_row": null,
            "grid_template_areas": null,
            "grid_template_columns": null,
            "grid_template_rows": null,
            "height": null,
            "justify_content": null,
            "justify_items": null,
            "left": null,
            "margin": null,
            "max_height": null,
            "max_width": null,
            "min_height": null,
            "min_width": null,
            "object_fit": null,
            "object_position": null,
            "order": null,
            "overflow": null,
            "overflow_x": null,
            "overflow_y": null,
            "padding": null,
            "right": null,
            "top": null,
            "visibility": null,
            "width": null
          }
        },
        "d9f4e04e98214194a1bc9c7a955b11fa": {
          "model_module": "@jupyter-widgets/controls",
          "model_name": "DescriptionStyleModel",
          "model_module_version": "1.5.0",
          "state": {
            "_model_module": "@jupyter-widgets/controls",
            "_model_module_version": "1.5.0",
            "_model_name": "DescriptionStyleModel",
            "_view_count": null,
            "_view_module": "@jupyter-widgets/base",
            "_view_module_version": "1.2.0",
            "_view_name": "StyleView",
            "description_width": ""
          }
        },
        "e1cbeb2412f24b12ade612aa2e8e8eec": {
          "model_module": "@jupyter-widgets/base",
          "model_name": "LayoutModel",
          "model_module_version": "1.2.0",
          "state": {
            "_model_module": "@jupyter-widgets/base",
            "_model_module_version": "1.2.0",
            "_model_name": "LayoutModel",
            "_view_count": null,
            "_view_module": "@jupyter-widgets/base",
            "_view_module_version": "1.2.0",
            "_view_name": "LayoutView",
            "align_content": null,
            "align_items": null,
            "align_self": null,
            "border": null,
            "bottom": null,
            "display": null,
            "flex": null,
            "flex_flow": null,
            "grid_area": null,
            "grid_auto_columns": null,
            "grid_auto_flow": null,
            "grid_auto_rows": null,
            "grid_column": null,
            "grid_gap": null,
            "grid_row": null,
            "grid_template_areas": null,
            "grid_template_columns": null,
            "grid_template_rows": null,
            "height": null,
            "justify_content": null,
            "justify_items": null,
            "left": null,
            "margin": null,
            "max_height": null,
            "max_width": null,
            "min_height": null,
            "min_width": null,
            "object_fit": null,
            "object_position": null,
            "order": null,
            "overflow": null,
            "overflow_x": null,
            "overflow_y": null,
            "padding": null,
            "right": null,
            "top": null,
            "visibility": null,
            "width": null
          }
        },
        "6395c38595354cd3bf67d6caaa1abbb5": {
          "model_module": "@jupyter-widgets/controls",
          "model_name": "ProgressStyleModel",
          "model_module_version": "1.5.0",
          "state": {
            "_model_module": "@jupyter-widgets/controls",
            "_model_module_version": "1.5.0",
            "_model_name": "ProgressStyleModel",
            "_view_count": null,
            "_view_module": "@jupyter-widgets/base",
            "_view_module_version": "1.2.0",
            "_view_name": "StyleView",
            "bar_color": null,
            "description_width": ""
          }
        },
        "765bbfed17554b1fb2b9129c10d61f3e": {
          "model_module": "@jupyter-widgets/base",
          "model_name": "LayoutModel",
          "model_module_version": "1.2.0",
          "state": {
            "_model_module": "@jupyter-widgets/base",
            "_model_module_version": "1.2.0",
            "_model_name": "LayoutModel",
            "_view_count": null,
            "_view_module": "@jupyter-widgets/base",
            "_view_module_version": "1.2.0",
            "_view_name": "LayoutView",
            "align_content": null,
            "align_items": null,
            "align_self": null,
            "border": null,
            "bottom": null,
            "display": null,
            "flex": null,
            "flex_flow": null,
            "grid_area": null,
            "grid_auto_columns": null,
            "grid_auto_flow": null,
            "grid_auto_rows": null,
            "grid_column": null,
            "grid_gap": null,
            "grid_row": null,
            "grid_template_areas": null,
            "grid_template_columns": null,
            "grid_template_rows": null,
            "height": null,
            "justify_content": null,
            "justify_items": null,
            "left": null,
            "margin": null,
            "max_height": null,
            "max_width": null,
            "min_height": null,
            "min_width": null,
            "object_fit": null,
            "object_position": null,
            "order": null,
            "overflow": null,
            "overflow_x": null,
            "overflow_y": null,
            "padding": null,
            "right": null,
            "top": null,
            "visibility": null,
            "width": null
          }
        },
        "b79dd5913f534e4b845d26f1c9653dd8": {
          "model_module": "@jupyter-widgets/controls",
          "model_name": "DescriptionStyleModel",
          "model_module_version": "1.5.0",
          "state": {
            "_model_module": "@jupyter-widgets/controls",
            "_model_module_version": "1.5.0",
            "_model_name": "DescriptionStyleModel",
            "_view_count": null,
            "_view_module": "@jupyter-widgets/base",
            "_view_module_version": "1.2.0",
            "_view_name": "StyleView",
            "description_width": ""
          }
        },
        "d95805f2920c4f7caa83ae8f45560caf": {
          "model_module": "@jupyter-widgets/controls",
          "model_name": "HBoxModel",
          "model_module_version": "1.5.0",
          "state": {
            "_dom_classes": [],
            "_model_module": "@jupyter-widgets/controls",
            "_model_module_version": "1.5.0",
            "_model_name": "HBoxModel",
            "_view_count": null,
            "_view_module": "@jupyter-widgets/controls",
            "_view_module_version": "1.5.0",
            "_view_name": "HBoxView",
            "box_style": "",
            "children": [
              "IPY_MODEL_0c38bff2f1a94be1a6fce34323baede7",
              "IPY_MODEL_6e21a16450ec491abbc2b9939cf1dcbb",
              "IPY_MODEL_4dc586a938ef494cb7fdda8b7d50aa39"
            ],
            "layout": "IPY_MODEL_ed38618324dd4a0e8c2c6b1830b4e28b"
          }
        },
        "0c38bff2f1a94be1a6fce34323baede7": {
          "model_module": "@jupyter-widgets/controls",
          "model_name": "HTMLModel",
          "model_module_version": "1.5.0",
          "state": {
            "_dom_classes": [],
            "_model_module": "@jupyter-widgets/controls",
            "_model_module_version": "1.5.0",
            "_model_name": "HTMLModel",
            "_view_count": null,
            "_view_module": "@jupyter-widgets/controls",
            "_view_module_version": "1.5.0",
            "_view_name": "HTMLView",
            "description": "",
            "description_tooltip": null,
            "layout": "IPY_MODEL_ac26f22b0a4f4dc2aeeccb8dd586318b",
            "placeholder": "​",
            "style": "IPY_MODEL_510068ee9058422494d24aad2c942409",
            "value": "Downloading pytorch_model.bin: 100%"
          }
        },
        "6e21a16450ec491abbc2b9939cf1dcbb": {
          "model_module": "@jupyter-widgets/controls",
          "model_name": "FloatProgressModel",
          "model_module_version": "1.5.0",
          "state": {
            "_dom_classes": [],
            "_model_module": "@jupyter-widgets/controls",
            "_model_module_version": "1.5.0",
            "_model_name": "FloatProgressModel",
            "_view_count": null,
            "_view_module": "@jupyter-widgets/controls",
            "_view_module_version": "1.5.0",
            "_view_name": "ProgressView",
            "bar_style": "success",
            "description": "",
            "description_tooltip": null,
            "layout": "IPY_MODEL_cae0d99fb64f49b9b368de8f9e73c314",
            "max": 714314041,
            "min": 0,
            "orientation": "horizontal",
            "style": "IPY_MODEL_8a23e6f244104546b6cd2ff22e7882d0",
            "value": 714314041
          }
        },
        "4dc586a938ef494cb7fdda8b7d50aa39": {
          "model_module": "@jupyter-widgets/controls",
          "model_name": "HTMLModel",
          "model_module_version": "1.5.0",
          "state": {
            "_dom_classes": [],
            "_model_module": "@jupyter-widgets/controls",
            "_model_module_version": "1.5.0",
            "_model_name": "HTMLModel",
            "_view_count": null,
            "_view_module": "@jupyter-widgets/controls",
            "_view_module_version": "1.5.0",
            "_view_name": "HTMLView",
            "description": "",
            "description_tooltip": null,
            "layout": "IPY_MODEL_1a3fa711d8bb40e78c8fe17dbf6305c4",
            "placeholder": "​",
            "style": "IPY_MODEL_4b31b1412a424fcbb81b6b107affec90",
            "value": " 681M/681M [00:20&lt;00:00, 60.7MB/s]"
          }
        },
        "ed38618324dd4a0e8c2c6b1830b4e28b": {
          "model_module": "@jupyter-widgets/base",
          "model_name": "LayoutModel",
          "model_module_version": "1.2.0",
          "state": {
            "_model_module": "@jupyter-widgets/base",
            "_model_module_version": "1.2.0",
            "_model_name": "LayoutModel",
            "_view_count": null,
            "_view_module": "@jupyter-widgets/base",
            "_view_module_version": "1.2.0",
            "_view_name": "LayoutView",
            "align_content": null,
            "align_items": null,
            "align_self": null,
            "border": null,
            "bottom": null,
            "display": null,
            "flex": null,
            "flex_flow": null,
            "grid_area": null,
            "grid_auto_columns": null,
            "grid_auto_flow": null,
            "grid_auto_rows": null,
            "grid_column": null,
            "grid_gap": null,
            "grid_row": null,
            "grid_template_areas": null,
            "grid_template_columns": null,
            "grid_template_rows": null,
            "height": null,
            "justify_content": null,
            "justify_items": null,
            "left": null,
            "margin": null,
            "max_height": null,
            "max_width": null,
            "min_height": null,
            "min_width": null,
            "object_fit": null,
            "object_position": null,
            "order": null,
            "overflow": null,
            "overflow_x": null,
            "overflow_y": null,
            "padding": null,
            "right": null,
            "top": null,
            "visibility": null,
            "width": null
          }
        },
        "ac26f22b0a4f4dc2aeeccb8dd586318b": {
          "model_module": "@jupyter-widgets/base",
          "model_name": "LayoutModel",
          "model_module_version": "1.2.0",
          "state": {
            "_model_module": "@jupyter-widgets/base",
            "_model_module_version": "1.2.0",
            "_model_name": "LayoutModel",
            "_view_count": null,
            "_view_module": "@jupyter-widgets/base",
            "_view_module_version": "1.2.0",
            "_view_name": "LayoutView",
            "align_content": null,
            "align_items": null,
            "align_self": null,
            "border": null,
            "bottom": null,
            "display": null,
            "flex": null,
            "flex_flow": null,
            "grid_area": null,
            "grid_auto_columns": null,
            "grid_auto_flow": null,
            "grid_auto_rows": null,
            "grid_column": null,
            "grid_gap": null,
            "grid_row": null,
            "grid_template_areas": null,
            "grid_template_columns": null,
            "grid_template_rows": null,
            "height": null,
            "justify_content": null,
            "justify_items": null,
            "left": null,
            "margin": null,
            "max_height": null,
            "max_width": null,
            "min_height": null,
            "min_width": null,
            "object_fit": null,
            "object_position": null,
            "order": null,
            "overflow": null,
            "overflow_x": null,
            "overflow_y": null,
            "padding": null,
            "right": null,
            "top": null,
            "visibility": null,
            "width": null
          }
        },
        "510068ee9058422494d24aad2c942409": {
          "model_module": "@jupyter-widgets/controls",
          "model_name": "DescriptionStyleModel",
          "model_module_version": "1.5.0",
          "state": {
            "_model_module": "@jupyter-widgets/controls",
            "_model_module_version": "1.5.0",
            "_model_name": "DescriptionStyleModel",
            "_view_count": null,
            "_view_module": "@jupyter-widgets/base",
            "_view_module_version": "1.2.0",
            "_view_name": "StyleView",
            "description_width": ""
          }
        },
        "cae0d99fb64f49b9b368de8f9e73c314": {
          "model_module": "@jupyter-widgets/base",
          "model_name": "LayoutModel",
          "model_module_version": "1.2.0",
          "state": {
            "_model_module": "@jupyter-widgets/base",
            "_model_module_version": "1.2.0",
            "_model_name": "LayoutModel",
            "_view_count": null,
            "_view_module": "@jupyter-widgets/base",
            "_view_module_version": "1.2.0",
            "_view_name": "LayoutView",
            "align_content": null,
            "align_items": null,
            "align_self": null,
            "border": null,
            "bottom": null,
            "display": null,
            "flex": null,
            "flex_flow": null,
            "grid_area": null,
            "grid_auto_columns": null,
            "grid_auto_flow": null,
            "grid_auto_rows": null,
            "grid_column": null,
            "grid_gap": null,
            "grid_row": null,
            "grid_template_areas": null,
            "grid_template_columns": null,
            "grid_template_rows": null,
            "height": null,
            "justify_content": null,
            "justify_items": null,
            "left": null,
            "margin": null,
            "max_height": null,
            "max_width": null,
            "min_height": null,
            "min_width": null,
            "object_fit": null,
            "object_position": null,
            "order": null,
            "overflow": null,
            "overflow_x": null,
            "overflow_y": null,
            "padding": null,
            "right": null,
            "top": null,
            "visibility": null,
            "width": null
          }
        },
        "8a23e6f244104546b6cd2ff22e7882d0": {
          "model_module": "@jupyter-widgets/controls",
          "model_name": "ProgressStyleModel",
          "model_module_version": "1.5.0",
          "state": {
            "_model_module": "@jupyter-widgets/controls",
            "_model_module_version": "1.5.0",
            "_model_name": "ProgressStyleModel",
            "_view_count": null,
            "_view_module": "@jupyter-widgets/base",
            "_view_module_version": "1.2.0",
            "_view_name": "StyleView",
            "bar_color": null,
            "description_width": ""
          }
        },
        "1a3fa711d8bb40e78c8fe17dbf6305c4": {
          "model_module": "@jupyter-widgets/base",
          "model_name": "LayoutModel",
          "model_module_version": "1.2.0",
          "state": {
            "_model_module": "@jupyter-widgets/base",
            "_model_module_version": "1.2.0",
            "_model_name": "LayoutModel",
            "_view_count": null,
            "_view_module": "@jupyter-widgets/base",
            "_view_module_version": "1.2.0",
            "_view_name": "LayoutView",
            "align_content": null,
            "align_items": null,
            "align_self": null,
            "border": null,
            "bottom": null,
            "display": null,
            "flex": null,
            "flex_flow": null,
            "grid_area": null,
            "grid_auto_columns": null,
            "grid_auto_flow": null,
            "grid_auto_rows": null,
            "grid_column": null,
            "grid_gap": null,
            "grid_row": null,
            "grid_template_areas": null,
            "grid_template_columns": null,
            "grid_template_rows": null,
            "height": null,
            "justify_content": null,
            "justify_items": null,
            "left": null,
            "margin": null,
            "max_height": null,
            "max_width": null,
            "min_height": null,
            "min_width": null,
            "object_fit": null,
            "object_position": null,
            "order": null,
            "overflow": null,
            "overflow_x": null,
            "overflow_y": null,
            "padding": null,
            "right": null,
            "top": null,
            "visibility": null,
            "width": null
          }
        },
        "4b31b1412a424fcbb81b6b107affec90": {
          "model_module": "@jupyter-widgets/controls",
          "model_name": "DescriptionStyleModel",
          "model_module_version": "1.5.0",
          "state": {
            "_model_module": "@jupyter-widgets/controls",
            "_model_module_version": "1.5.0",
            "_model_name": "DescriptionStyleModel",
            "_view_count": null,
            "_view_module": "@jupyter-widgets/base",
            "_view_module_version": "1.2.0",
            "_view_name": "StyleView",
            "description_width": ""
          }
        },
        "ab4be53b37134567a01e3af5986757ff": {
          "model_module": "@jupyter-widgets/controls",
          "model_name": "HBoxModel",
          "model_module_version": "1.5.0",
          "state": {
            "_dom_classes": [],
            "_model_module": "@jupyter-widgets/controls",
            "_model_module_version": "1.5.0",
            "_model_name": "HBoxModel",
            "_view_count": null,
            "_view_module": "@jupyter-widgets/controls",
            "_view_module_version": "1.5.0",
            "_view_name": "HBoxView",
            "box_style": "",
            "children": [
              "IPY_MODEL_d2eb39ec9f6d469286916b5ba6185c27",
              "IPY_MODEL_c8e379cbe88f43d08cbacf8fdf3e4513",
              "IPY_MODEL_2f482a3795094b518d5f194fc60b231e"
            ],
            "layout": "IPY_MODEL_f6aeea5c749a4644b4bdc36e1b551ccc"
          }
        },
        "d2eb39ec9f6d469286916b5ba6185c27": {
          "model_module": "@jupyter-widgets/controls",
          "model_name": "HTMLModel",
          "model_module_version": "1.5.0",
          "state": {
            "_dom_classes": [],
            "_model_module": "@jupyter-widgets/controls",
            "_model_module_version": "1.5.0",
            "_model_name": "HTMLModel",
            "_view_count": null,
            "_view_module": "@jupyter-widgets/controls",
            "_view_module_version": "1.5.0",
            "_view_name": "HTMLView",
            "description": "",
            "description_tooltip": null,
            "layout": "IPY_MODEL_fdc6795bf74643db9e65a8909c77ade7",
            "placeholder": "​",
            "style": "IPY_MODEL_a4da8a67ec6c41d59bc36e63ef60f87d",
            "value": "Downloading tokenizer_config.json: 100%"
          }
        },
        "c8e379cbe88f43d08cbacf8fdf3e4513": {
          "model_module": "@jupyter-widgets/controls",
          "model_name": "FloatProgressModel",
          "model_module_version": "1.5.0",
          "state": {
            "_dom_classes": [],
            "_model_module": "@jupyter-widgets/controls",
            "_model_module_version": "1.5.0",
            "_model_name": "FloatProgressModel",
            "_view_count": null,
            "_view_module": "@jupyter-widgets/controls",
            "_view_module_version": "1.5.0",
            "_view_name": "ProgressView",
            "bar_style": "success",
            "description": "",
            "description_tooltip": null,
            "layout": "IPY_MODEL_1b8afa33cbcc4356ba169d0c86fb2655",
            "max": 29,
            "min": 0,
            "orientation": "horizontal",
            "style": "IPY_MODEL_45cf05da51924709ada0680a36e0a490",
            "value": 29
          }
        },
        "2f482a3795094b518d5f194fc60b231e": {
          "model_module": "@jupyter-widgets/controls",
          "model_name": "HTMLModel",
          "model_module_version": "1.5.0",
          "state": {
            "_dom_classes": [],
            "_model_module": "@jupyter-widgets/controls",
            "_model_module_version": "1.5.0",
            "_model_name": "HTMLModel",
            "_view_count": null,
            "_view_module": "@jupyter-widgets/controls",
            "_view_module_version": "1.5.0",
            "_view_name": "HTMLView",
            "description": "",
            "description_tooltip": null,
            "layout": "IPY_MODEL_6c795c5429df4719a021d7fc8510bec7",
            "placeholder": "​",
            "style": "IPY_MODEL_c73fdbfe1ce746fe877356ace132f1dc",
            "value": " 29.0/29.0 [00:00&lt;00:00, 1.00kB/s]"
          }
        },
        "f6aeea5c749a4644b4bdc36e1b551ccc": {
          "model_module": "@jupyter-widgets/base",
          "model_name": "LayoutModel",
          "model_module_version": "1.2.0",
          "state": {
            "_model_module": "@jupyter-widgets/base",
            "_model_module_version": "1.2.0",
            "_model_name": "LayoutModel",
            "_view_count": null,
            "_view_module": "@jupyter-widgets/base",
            "_view_module_version": "1.2.0",
            "_view_name": "LayoutView",
            "align_content": null,
            "align_items": null,
            "align_self": null,
            "border": null,
            "bottom": null,
            "display": null,
            "flex": null,
            "flex_flow": null,
            "grid_area": null,
            "grid_auto_columns": null,
            "grid_auto_flow": null,
            "grid_auto_rows": null,
            "grid_column": null,
            "grid_gap": null,
            "grid_row": null,
            "grid_template_areas": null,
            "grid_template_columns": null,
            "grid_template_rows": null,
            "height": null,
            "justify_content": null,
            "justify_items": null,
            "left": null,
            "margin": null,
            "max_height": null,
            "max_width": null,
            "min_height": null,
            "min_width": null,
            "object_fit": null,
            "object_position": null,
            "order": null,
            "overflow": null,
            "overflow_x": null,
            "overflow_y": null,
            "padding": null,
            "right": null,
            "top": null,
            "visibility": null,
            "width": null
          }
        },
        "fdc6795bf74643db9e65a8909c77ade7": {
          "model_module": "@jupyter-widgets/base",
          "model_name": "LayoutModel",
          "model_module_version": "1.2.0",
          "state": {
            "_model_module": "@jupyter-widgets/base",
            "_model_module_version": "1.2.0",
            "_model_name": "LayoutModel",
            "_view_count": null,
            "_view_module": "@jupyter-widgets/base",
            "_view_module_version": "1.2.0",
            "_view_name": "LayoutView",
            "align_content": null,
            "align_items": null,
            "align_self": null,
            "border": null,
            "bottom": null,
            "display": null,
            "flex": null,
            "flex_flow": null,
            "grid_area": null,
            "grid_auto_columns": null,
            "grid_auto_flow": null,
            "grid_auto_rows": null,
            "grid_column": null,
            "grid_gap": null,
            "grid_row": null,
            "grid_template_areas": null,
            "grid_template_columns": null,
            "grid_template_rows": null,
            "height": null,
            "justify_content": null,
            "justify_items": null,
            "left": null,
            "margin": null,
            "max_height": null,
            "max_width": null,
            "min_height": null,
            "min_width": null,
            "object_fit": null,
            "object_position": null,
            "order": null,
            "overflow": null,
            "overflow_x": null,
            "overflow_y": null,
            "padding": null,
            "right": null,
            "top": null,
            "visibility": null,
            "width": null
          }
        },
        "a4da8a67ec6c41d59bc36e63ef60f87d": {
          "model_module": "@jupyter-widgets/controls",
          "model_name": "DescriptionStyleModel",
          "model_module_version": "1.5.0",
          "state": {
            "_model_module": "@jupyter-widgets/controls",
            "_model_module_version": "1.5.0",
            "_model_name": "DescriptionStyleModel",
            "_view_count": null,
            "_view_module": "@jupyter-widgets/base",
            "_view_module_version": "1.2.0",
            "_view_name": "StyleView",
            "description_width": ""
          }
        },
        "1b8afa33cbcc4356ba169d0c86fb2655": {
          "model_module": "@jupyter-widgets/base",
          "model_name": "LayoutModel",
          "model_module_version": "1.2.0",
          "state": {
            "_model_module": "@jupyter-widgets/base",
            "_model_module_version": "1.2.0",
            "_model_name": "LayoutModel",
            "_view_count": null,
            "_view_module": "@jupyter-widgets/base",
            "_view_module_version": "1.2.0",
            "_view_name": "LayoutView",
            "align_content": null,
            "align_items": null,
            "align_self": null,
            "border": null,
            "bottom": null,
            "display": null,
            "flex": null,
            "flex_flow": null,
            "grid_area": null,
            "grid_auto_columns": null,
            "grid_auto_flow": null,
            "grid_auto_rows": null,
            "grid_column": null,
            "grid_gap": null,
            "grid_row": null,
            "grid_template_areas": null,
            "grid_template_columns": null,
            "grid_template_rows": null,
            "height": null,
            "justify_content": null,
            "justify_items": null,
            "left": null,
            "margin": null,
            "max_height": null,
            "max_width": null,
            "min_height": null,
            "min_width": null,
            "object_fit": null,
            "object_position": null,
            "order": null,
            "overflow": null,
            "overflow_x": null,
            "overflow_y": null,
            "padding": null,
            "right": null,
            "top": null,
            "visibility": null,
            "width": null
          }
        },
        "45cf05da51924709ada0680a36e0a490": {
          "model_module": "@jupyter-widgets/controls",
          "model_name": "ProgressStyleModel",
          "model_module_version": "1.5.0",
          "state": {
            "_model_module": "@jupyter-widgets/controls",
            "_model_module_version": "1.5.0",
            "_model_name": "ProgressStyleModel",
            "_view_count": null,
            "_view_module": "@jupyter-widgets/base",
            "_view_module_version": "1.2.0",
            "_view_name": "StyleView",
            "bar_color": null,
            "description_width": ""
          }
        },
        "6c795c5429df4719a021d7fc8510bec7": {
          "model_module": "@jupyter-widgets/base",
          "model_name": "LayoutModel",
          "model_module_version": "1.2.0",
          "state": {
            "_model_module": "@jupyter-widgets/base",
            "_model_module_version": "1.2.0",
            "_model_name": "LayoutModel",
            "_view_count": null,
            "_view_module": "@jupyter-widgets/base",
            "_view_module_version": "1.2.0",
            "_view_name": "LayoutView",
            "align_content": null,
            "align_items": null,
            "align_self": null,
            "border": null,
            "bottom": null,
            "display": null,
            "flex": null,
            "flex_flow": null,
            "grid_area": null,
            "grid_auto_columns": null,
            "grid_auto_flow": null,
            "grid_auto_rows": null,
            "grid_column": null,
            "grid_gap": null,
            "grid_row": null,
            "grid_template_areas": null,
            "grid_template_columns": null,
            "grid_template_rows": null,
            "height": null,
            "justify_content": null,
            "justify_items": null,
            "left": null,
            "margin": null,
            "max_height": null,
            "max_width": null,
            "min_height": null,
            "min_width": null,
            "object_fit": null,
            "object_position": null,
            "order": null,
            "overflow": null,
            "overflow_x": null,
            "overflow_y": null,
            "padding": null,
            "right": null,
            "top": null,
            "visibility": null,
            "width": null
          }
        },
        "c73fdbfe1ce746fe877356ace132f1dc": {
          "model_module": "@jupyter-widgets/controls",
          "model_name": "DescriptionStyleModel",
          "model_module_version": "1.5.0",
          "state": {
            "_model_module": "@jupyter-widgets/controls",
            "_model_module_version": "1.5.0",
            "_model_name": "DescriptionStyleModel",
            "_view_count": null,
            "_view_module": "@jupyter-widgets/base",
            "_view_module_version": "1.2.0",
            "_view_name": "StyleView",
            "description_width": ""
          }
        },
        "b6b587b5c6714ff5a3ecc3c9e6e05504": {
          "model_module": "@jupyter-widgets/controls",
          "model_name": "HBoxModel",
          "model_module_version": "1.5.0",
          "state": {
            "_dom_classes": [],
            "_model_module": "@jupyter-widgets/controls",
            "_model_module_version": "1.5.0",
            "_model_name": "HBoxModel",
            "_view_count": null,
            "_view_module": "@jupyter-widgets/controls",
            "_view_module_version": "1.5.0",
            "_view_name": "HBoxView",
            "box_style": "",
            "children": [
              "IPY_MODEL_56fa43ecd8054939af154de56d49e0e9",
              "IPY_MODEL_2c0c8137d29d43068237c80b130430f7",
              "IPY_MODEL_ee78fb45d30b4099a2575adcbdd3830a"
            ],
            "layout": "IPY_MODEL_fcadb4552a0043ea9770bd09bb2b6772"
          }
        },
        "56fa43ecd8054939af154de56d49e0e9": {
          "model_module": "@jupyter-widgets/controls",
          "model_name": "HTMLModel",
          "model_module_version": "1.5.0",
          "state": {
            "_dom_classes": [],
            "_model_module": "@jupyter-widgets/controls",
            "_model_module_version": "1.5.0",
            "_model_name": "HTMLModel",
            "_view_count": null,
            "_view_module": "@jupyter-widgets/controls",
            "_view_module_version": "1.5.0",
            "_view_name": "HTMLView",
            "description": "",
            "description_tooltip": null,
            "layout": "IPY_MODEL_1a352344a40f4dbe92362e7c4b4ff6ed",
            "placeholder": "​",
            "style": "IPY_MODEL_23121fd64d0b4b378e28f95577d57281",
            "value": "Downloading vocab.txt: 100%"
          }
        },
        "2c0c8137d29d43068237c80b130430f7": {
          "model_module": "@jupyter-widgets/controls",
          "model_name": "FloatProgressModel",
          "model_module_version": "1.5.0",
          "state": {
            "_dom_classes": [],
            "_model_module": "@jupyter-widgets/controls",
            "_model_module_version": "1.5.0",
            "_model_name": "FloatProgressModel",
            "_view_count": null,
            "_view_module": "@jupyter-widgets/controls",
            "_view_module_version": "1.5.0",
            "_view_name": "ProgressView",
            "bar_style": "success",
            "description": "",
            "description_tooltip": null,
            "layout": "IPY_MODEL_cbe6e85ebc374af7bd01a91f52ef4cc2",
            "max": 995526,
            "min": 0,
            "orientation": "horizontal",
            "style": "IPY_MODEL_861fdaf9acec496bbf4adcf800aa60cd",
            "value": 995526
          }
        },
        "ee78fb45d30b4099a2575adcbdd3830a": {
          "model_module": "@jupyter-widgets/controls",
          "model_name": "HTMLModel",
          "model_module_version": "1.5.0",
          "state": {
            "_dom_classes": [],
            "_model_module": "@jupyter-widgets/controls",
            "_model_module_version": "1.5.0",
            "_model_name": "HTMLModel",
            "_view_count": null,
            "_view_module": "@jupyter-widgets/controls",
            "_view_module_version": "1.5.0",
            "_view_name": "HTMLView",
            "description": "",
            "description_tooltip": null,
            "layout": "IPY_MODEL_f59638aaa3bf46bead24145a4829d5e8",
            "placeholder": "​",
            "style": "IPY_MODEL_80f03f53632b4b76a5fdbf148b40224a",
            "value": " 972k/972k [00:00&lt;00:00, 1.40MB/s]"
          }
        },
        "fcadb4552a0043ea9770bd09bb2b6772": {
          "model_module": "@jupyter-widgets/base",
          "model_name": "LayoutModel",
          "model_module_version": "1.2.0",
          "state": {
            "_model_module": "@jupyter-widgets/base",
            "_model_module_version": "1.2.0",
            "_model_name": "LayoutModel",
            "_view_count": null,
            "_view_module": "@jupyter-widgets/base",
            "_view_module_version": "1.2.0",
            "_view_name": "LayoutView",
            "align_content": null,
            "align_items": null,
            "align_self": null,
            "border": null,
            "bottom": null,
            "display": null,
            "flex": null,
            "flex_flow": null,
            "grid_area": null,
            "grid_auto_columns": null,
            "grid_auto_flow": null,
            "grid_auto_rows": null,
            "grid_column": null,
            "grid_gap": null,
            "grid_row": null,
            "grid_template_areas": null,
            "grid_template_columns": null,
            "grid_template_rows": null,
            "height": null,
            "justify_content": null,
            "justify_items": null,
            "left": null,
            "margin": null,
            "max_height": null,
            "max_width": null,
            "min_height": null,
            "min_width": null,
            "object_fit": null,
            "object_position": null,
            "order": null,
            "overflow": null,
            "overflow_x": null,
            "overflow_y": null,
            "padding": null,
            "right": null,
            "top": null,
            "visibility": null,
            "width": null
          }
        },
        "1a352344a40f4dbe92362e7c4b4ff6ed": {
          "model_module": "@jupyter-widgets/base",
          "model_name": "LayoutModel",
          "model_module_version": "1.2.0",
          "state": {
            "_model_module": "@jupyter-widgets/base",
            "_model_module_version": "1.2.0",
            "_model_name": "LayoutModel",
            "_view_count": null,
            "_view_module": "@jupyter-widgets/base",
            "_view_module_version": "1.2.0",
            "_view_name": "LayoutView",
            "align_content": null,
            "align_items": null,
            "align_self": null,
            "border": null,
            "bottom": null,
            "display": null,
            "flex": null,
            "flex_flow": null,
            "grid_area": null,
            "grid_auto_columns": null,
            "grid_auto_flow": null,
            "grid_auto_rows": null,
            "grid_column": null,
            "grid_gap": null,
            "grid_row": null,
            "grid_template_areas": null,
            "grid_template_columns": null,
            "grid_template_rows": null,
            "height": null,
            "justify_content": null,
            "justify_items": null,
            "left": null,
            "margin": null,
            "max_height": null,
            "max_width": null,
            "min_height": null,
            "min_width": null,
            "object_fit": null,
            "object_position": null,
            "order": null,
            "overflow": null,
            "overflow_x": null,
            "overflow_y": null,
            "padding": null,
            "right": null,
            "top": null,
            "visibility": null,
            "width": null
          }
        },
        "23121fd64d0b4b378e28f95577d57281": {
          "model_module": "@jupyter-widgets/controls",
          "model_name": "DescriptionStyleModel",
          "model_module_version": "1.5.0",
          "state": {
            "_model_module": "@jupyter-widgets/controls",
            "_model_module_version": "1.5.0",
            "_model_name": "DescriptionStyleModel",
            "_view_count": null,
            "_view_module": "@jupyter-widgets/base",
            "_view_module_version": "1.2.0",
            "_view_name": "StyleView",
            "description_width": ""
          }
        },
        "cbe6e85ebc374af7bd01a91f52ef4cc2": {
          "model_module": "@jupyter-widgets/base",
          "model_name": "LayoutModel",
          "model_module_version": "1.2.0",
          "state": {
            "_model_module": "@jupyter-widgets/base",
            "_model_module_version": "1.2.0",
            "_model_name": "LayoutModel",
            "_view_count": null,
            "_view_module": "@jupyter-widgets/base",
            "_view_module_version": "1.2.0",
            "_view_name": "LayoutView",
            "align_content": null,
            "align_items": null,
            "align_self": null,
            "border": null,
            "bottom": null,
            "display": null,
            "flex": null,
            "flex_flow": null,
            "grid_area": null,
            "grid_auto_columns": null,
            "grid_auto_flow": null,
            "grid_auto_rows": null,
            "grid_column": null,
            "grid_gap": null,
            "grid_row": null,
            "grid_template_areas": null,
            "grid_template_columns": null,
            "grid_template_rows": null,
            "height": null,
            "justify_content": null,
            "justify_items": null,
            "left": null,
            "margin": null,
            "max_height": null,
            "max_width": null,
            "min_height": null,
            "min_width": null,
            "object_fit": null,
            "object_position": null,
            "order": null,
            "overflow": null,
            "overflow_x": null,
            "overflow_y": null,
            "padding": null,
            "right": null,
            "top": null,
            "visibility": null,
            "width": null
          }
        },
        "861fdaf9acec496bbf4adcf800aa60cd": {
          "model_module": "@jupyter-widgets/controls",
          "model_name": "ProgressStyleModel",
          "model_module_version": "1.5.0",
          "state": {
            "_model_module": "@jupyter-widgets/controls",
            "_model_module_version": "1.5.0",
            "_model_name": "ProgressStyleModel",
            "_view_count": null,
            "_view_module": "@jupyter-widgets/base",
            "_view_module_version": "1.2.0",
            "_view_name": "StyleView",
            "bar_color": null,
            "description_width": ""
          }
        },
        "f59638aaa3bf46bead24145a4829d5e8": {
          "model_module": "@jupyter-widgets/base",
          "model_name": "LayoutModel",
          "model_module_version": "1.2.0",
          "state": {
            "_model_module": "@jupyter-widgets/base",
            "_model_module_version": "1.2.0",
            "_model_name": "LayoutModel",
            "_view_count": null,
            "_view_module": "@jupyter-widgets/base",
            "_view_module_version": "1.2.0",
            "_view_name": "LayoutView",
            "align_content": null,
            "align_items": null,
            "align_self": null,
            "border": null,
            "bottom": null,
            "display": null,
            "flex": null,
            "flex_flow": null,
            "grid_area": null,
            "grid_auto_columns": null,
            "grid_auto_flow": null,
            "grid_auto_rows": null,
            "grid_column": null,
            "grid_gap": null,
            "grid_row": null,
            "grid_template_areas": null,
            "grid_template_columns": null,
            "grid_template_rows": null,
            "height": null,
            "justify_content": null,
            "justify_items": null,
            "left": null,
            "margin": null,
            "max_height": null,
            "max_width": null,
            "min_height": null,
            "min_width": null,
            "object_fit": null,
            "object_position": null,
            "order": null,
            "overflow": null,
            "overflow_x": null,
            "overflow_y": null,
            "padding": null,
            "right": null,
            "top": null,
            "visibility": null,
            "width": null
          }
        },
        "80f03f53632b4b76a5fdbf148b40224a": {
          "model_module": "@jupyter-widgets/controls",
          "model_name": "DescriptionStyleModel",
          "model_module_version": "1.5.0",
          "state": {
            "_model_module": "@jupyter-widgets/controls",
            "_model_module_version": "1.5.0",
            "_model_name": "DescriptionStyleModel",
            "_view_count": null,
            "_view_module": "@jupyter-widgets/base",
            "_view_module_version": "1.2.0",
            "_view_name": "StyleView",
            "description_width": ""
          }
        },
        "8701ddd8fc5949508cd1df3344a10058": {
          "model_module": "@jupyter-widgets/controls",
          "model_name": "HBoxModel",
          "model_module_version": "1.5.0",
          "state": {
            "_dom_classes": [],
            "_model_module": "@jupyter-widgets/controls",
            "_model_module_version": "1.5.0",
            "_model_name": "HBoxModel",
            "_view_count": null,
            "_view_module": "@jupyter-widgets/controls",
            "_view_module_version": "1.5.0",
            "_view_name": "HBoxView",
            "box_style": "",
            "children": [
              "IPY_MODEL_79969276b27141cd81accf34cb0440d1",
              "IPY_MODEL_f89f3a85846b41fb9dd98ac490c4fd1b",
              "IPY_MODEL_3ba36285ae7e49e9a36c9244d172a01f"
            ],
            "layout": "IPY_MODEL_e9e76963742e4d199372295cec7d28e1"
          }
        },
        "79969276b27141cd81accf34cb0440d1": {
          "model_module": "@jupyter-widgets/controls",
          "model_name": "HTMLModel",
          "model_module_version": "1.5.0",
          "state": {
            "_dom_classes": [],
            "_model_module": "@jupyter-widgets/controls",
            "_model_module_version": "1.5.0",
            "_model_name": "HTMLModel",
            "_view_count": null,
            "_view_module": "@jupyter-widgets/controls",
            "_view_module_version": "1.5.0",
            "_view_name": "HTMLView",
            "description": "",
            "description_tooltip": null,
            "layout": "IPY_MODEL_6dbb5fa9c1404bc7b3b6c599a65105a7",
            "placeholder": "​",
            "style": "IPY_MODEL_4646e07809934a89acf10eef6a0a3267",
            "value": "Downloading tokenizer.json: 100%"
          }
        },
        "f89f3a85846b41fb9dd98ac490c4fd1b": {
          "model_module": "@jupyter-widgets/controls",
          "model_name": "FloatProgressModel",
          "model_module_version": "1.5.0",
          "state": {
            "_dom_classes": [],
            "_model_module": "@jupyter-widgets/controls",
            "_model_module_version": "1.5.0",
            "_model_name": "FloatProgressModel",
            "_view_count": null,
            "_view_module": "@jupyter-widgets/controls",
            "_view_module_version": "1.5.0",
            "_view_name": "ProgressView",
            "bar_style": "success",
            "description": "",
            "description_tooltip": null,
            "layout": "IPY_MODEL_3b588055682042bd9acaeea9b5a2a2e6",
            "max": 1961828,
            "min": 0,
            "orientation": "horizontal",
            "style": "IPY_MODEL_8e33b2a16f7440e5b01c9fc676cfd1dd",
            "value": 1961828
          }
        },
        "3ba36285ae7e49e9a36c9244d172a01f": {
          "model_module": "@jupyter-widgets/controls",
          "model_name": "HTMLModel",
          "model_module_version": "1.5.0",
          "state": {
            "_dom_classes": [],
            "_model_module": "@jupyter-widgets/controls",
            "_model_module_version": "1.5.0",
            "_model_name": "HTMLModel",
            "_view_count": null,
            "_view_module": "@jupyter-widgets/controls",
            "_view_module_version": "1.5.0",
            "_view_name": "HTMLView",
            "description": "",
            "description_tooltip": null,
            "layout": "IPY_MODEL_52e25c994cab4e0fb429f6a98109ec8a",
            "placeholder": "​",
            "style": "IPY_MODEL_a5484ab160104c6bbc2980c456d93761",
            "value": " 1.87M/1.87M [00:00&lt;00:00, 1.86MB/s]"
          }
        },
        "e9e76963742e4d199372295cec7d28e1": {
          "model_module": "@jupyter-widgets/base",
          "model_name": "LayoutModel",
          "model_module_version": "1.2.0",
          "state": {
            "_model_module": "@jupyter-widgets/base",
            "_model_module_version": "1.2.0",
            "_model_name": "LayoutModel",
            "_view_count": null,
            "_view_module": "@jupyter-widgets/base",
            "_view_module_version": "1.2.0",
            "_view_name": "LayoutView",
            "align_content": null,
            "align_items": null,
            "align_self": null,
            "border": null,
            "bottom": null,
            "display": null,
            "flex": null,
            "flex_flow": null,
            "grid_area": null,
            "grid_auto_columns": null,
            "grid_auto_flow": null,
            "grid_auto_rows": null,
            "grid_column": null,
            "grid_gap": null,
            "grid_row": null,
            "grid_template_areas": null,
            "grid_template_columns": null,
            "grid_template_rows": null,
            "height": null,
            "justify_content": null,
            "justify_items": null,
            "left": null,
            "margin": null,
            "max_height": null,
            "max_width": null,
            "min_height": null,
            "min_width": null,
            "object_fit": null,
            "object_position": null,
            "order": null,
            "overflow": null,
            "overflow_x": null,
            "overflow_y": null,
            "padding": null,
            "right": null,
            "top": null,
            "visibility": null,
            "width": null
          }
        },
        "6dbb5fa9c1404bc7b3b6c599a65105a7": {
          "model_module": "@jupyter-widgets/base",
          "model_name": "LayoutModel",
          "model_module_version": "1.2.0",
          "state": {
            "_model_module": "@jupyter-widgets/base",
            "_model_module_version": "1.2.0",
            "_model_name": "LayoutModel",
            "_view_count": null,
            "_view_module": "@jupyter-widgets/base",
            "_view_module_version": "1.2.0",
            "_view_name": "LayoutView",
            "align_content": null,
            "align_items": null,
            "align_self": null,
            "border": null,
            "bottom": null,
            "display": null,
            "flex": null,
            "flex_flow": null,
            "grid_area": null,
            "grid_auto_columns": null,
            "grid_auto_flow": null,
            "grid_auto_rows": null,
            "grid_column": null,
            "grid_gap": null,
            "grid_row": null,
            "grid_template_areas": null,
            "grid_template_columns": null,
            "grid_template_rows": null,
            "height": null,
            "justify_content": null,
            "justify_items": null,
            "left": null,
            "margin": null,
            "max_height": null,
            "max_width": null,
            "min_height": null,
            "min_width": null,
            "object_fit": null,
            "object_position": null,
            "order": null,
            "overflow": null,
            "overflow_x": null,
            "overflow_y": null,
            "padding": null,
            "right": null,
            "top": null,
            "visibility": null,
            "width": null
          }
        },
        "4646e07809934a89acf10eef6a0a3267": {
          "model_module": "@jupyter-widgets/controls",
          "model_name": "DescriptionStyleModel",
          "model_module_version": "1.5.0",
          "state": {
            "_model_module": "@jupyter-widgets/controls",
            "_model_module_version": "1.5.0",
            "_model_name": "DescriptionStyleModel",
            "_view_count": null,
            "_view_module": "@jupyter-widgets/base",
            "_view_module_version": "1.2.0",
            "_view_name": "StyleView",
            "description_width": ""
          }
        },
        "3b588055682042bd9acaeea9b5a2a2e6": {
          "model_module": "@jupyter-widgets/base",
          "model_name": "LayoutModel",
          "model_module_version": "1.2.0",
          "state": {
            "_model_module": "@jupyter-widgets/base",
            "_model_module_version": "1.2.0",
            "_model_name": "LayoutModel",
            "_view_count": null,
            "_view_module": "@jupyter-widgets/base",
            "_view_module_version": "1.2.0",
            "_view_name": "LayoutView",
            "align_content": null,
            "align_items": null,
            "align_self": null,
            "border": null,
            "bottom": null,
            "display": null,
            "flex": null,
            "flex_flow": null,
            "grid_area": null,
            "grid_auto_columns": null,
            "grid_auto_flow": null,
            "grid_auto_rows": null,
            "grid_column": null,
            "grid_gap": null,
            "grid_row": null,
            "grid_template_areas": null,
            "grid_template_columns": null,
            "grid_template_rows": null,
            "height": null,
            "justify_content": null,
            "justify_items": null,
            "left": null,
            "margin": null,
            "max_height": null,
            "max_width": null,
            "min_height": null,
            "min_width": null,
            "object_fit": null,
            "object_position": null,
            "order": null,
            "overflow": null,
            "overflow_x": null,
            "overflow_y": null,
            "padding": null,
            "right": null,
            "top": null,
            "visibility": null,
            "width": null
          }
        },
        "8e33b2a16f7440e5b01c9fc676cfd1dd": {
          "model_module": "@jupyter-widgets/controls",
          "model_name": "ProgressStyleModel",
          "model_module_version": "1.5.0",
          "state": {
            "_model_module": "@jupyter-widgets/controls",
            "_model_module_version": "1.5.0",
            "_model_name": "ProgressStyleModel",
            "_view_count": null,
            "_view_module": "@jupyter-widgets/base",
            "_view_module_version": "1.2.0",
            "_view_name": "StyleView",
            "bar_color": null,
            "description_width": ""
          }
        },
        "52e25c994cab4e0fb429f6a98109ec8a": {
          "model_module": "@jupyter-widgets/base",
          "model_name": "LayoutModel",
          "model_module_version": "1.2.0",
          "state": {
            "_model_module": "@jupyter-widgets/base",
            "_model_module_version": "1.2.0",
            "_model_name": "LayoutModel",
            "_view_count": null,
            "_view_module": "@jupyter-widgets/base",
            "_view_module_version": "1.2.0",
            "_view_name": "LayoutView",
            "align_content": null,
            "align_items": null,
            "align_self": null,
            "border": null,
            "bottom": null,
            "display": null,
            "flex": null,
            "flex_flow": null,
            "grid_area": null,
            "grid_auto_columns": null,
            "grid_auto_flow": null,
            "grid_auto_rows": null,
            "grid_column": null,
            "grid_gap": null,
            "grid_row": null,
            "grid_template_areas": null,
            "grid_template_columns": null,
            "grid_template_rows": null,
            "height": null,
            "justify_content": null,
            "justify_items": null,
            "left": null,
            "margin": null,
            "max_height": null,
            "max_width": null,
            "min_height": null,
            "min_width": null,
            "object_fit": null,
            "object_position": null,
            "order": null,
            "overflow": null,
            "overflow_x": null,
            "overflow_y": null,
            "padding": null,
            "right": null,
            "top": null,
            "visibility": null,
            "width": null
          }
        },
        "a5484ab160104c6bbc2980c456d93761": {
          "model_module": "@jupyter-widgets/controls",
          "model_name": "DescriptionStyleModel",
          "model_module_version": "1.5.0",
          "state": {
            "_model_module": "@jupyter-widgets/controls",
            "_model_module_version": "1.5.0",
            "_model_name": "DescriptionStyleModel",
            "_view_count": null,
            "_view_module": "@jupyter-widgets/base",
            "_view_module_version": "1.2.0",
            "_view_name": "StyleView",
            "description_width": ""
          }
        }
      }
    }
  },
  "cells": [
    {
      "cell_type": "markdown",
      "metadata": {
        "id": "view-in-github",
        "colab_type": "text"
      },
      "source": [
        "<a href=\"https://colab.research.google.com/github/bognevivien/text-classification/blob/main/classy_classification.ipynb\" target=\"_parent\"><img src=\"https://colab.research.google.com/assets/colab-badge.svg\" alt=\"Open In Colab\"/></a>"
      ]
    },
    {
      "cell_type": "markdown",
      "source": [
        "# Installing dependencies"
      ],
      "metadata": {
        "id": "NCzCMyvkW9Rx"
      }
    },
    {
      "cell_type": "code",
      "source": [
        "!pip install classy-classification onnx --no-use-pep517 -q\n"
      ],
      "metadata": {
        "id": "ejNtEjSrkUWp",
        "colab": {
          "base_uri": "https://localhost:8080/"
        },
        "outputId": "fbb11e43-93a7-449f-8545-f2847dde1ac1"
      },
      "execution_count": 1,
      "outputs": [
        {
          "output_type": "stream",
          "name": "stdout",
          "text": [
            "\u001b[K     |████████████████████████████████| 13.1 MB 4.7 MB/s \n",
            "\u001b[K     |████████████████████████████████| 135 kB 80.0 MB/s \n",
            "\u001b[K     |████████████████████████████████| 85 kB 5.0 MB/s \n",
            "\u001b[K     |████████████████████████████████| 5.5 MB 66.5 MB/s \n",
            "\u001b[K     |████████████████████████████████| 1.3 MB 75.9 MB/s \n",
            "\u001b[K     |████████████████████████████████| 182 kB 83.2 MB/s \n",
            "\u001b[K     |████████████████████████████████| 53 kB 2.0 MB/s \n",
            "\u001b[K     |████████████████████████████████| 4.7 MB 71.6 MB/s \n",
            "\u001b[K     |████████████████████████████████| 1.1 MB 80.9 MB/s \n",
            "\u001b[K     |████████████████████████████████| 6.6 MB 83.8 MB/s \n",
            "\u001b[K     |████████████████████████████████| 17.0 MB 67.7 MB/s \n",
            "\u001b[K     |████████████████████████████████| 308 kB 92.7 MB/s \n",
            "\u001b[K     |████████████████████████████████| 548 kB 81.4 MB/s \n",
            "\u001b[K     |████████████████████████████████| 68 kB 8.3 MB/s \n",
            "\u001b[K     |████████████████████████████████| 128 kB 65.8 MB/s \n",
            "\u001b[K     |████████████████████████████████| 296 kB 71.2 MB/s \n",
            "\u001b[K     |████████████████████████████████| 4.5 MB 55.2 MB/s \n",
            "\u001b[K     |████████████████████████████████| 288 kB 70.5 MB/s \n",
            "\u001b[K     |████████████████████████████████| 46 kB 4.7 MB/s \n",
            "\u001b[K     |████████████████████████████████| 86 kB 7.4 MB/s \n",
            "\u001b[K     |████████████████████████████████| 83 kB 2.9 MB/s \n",
            "\u001b[?25h  Building wheel for sentence-transformers (setup.py) ... \u001b[?25l\u001b[?25hdone\n",
            "  Building wheel for fasttext (setup.py) ... \u001b[?25l\u001b[?25hdone\n",
            "  Building wheel for tika (setup.py) ... \u001b[?25l\u001b[?25hdone\n"
          ]
        }
      ]
    },
    {
      "cell_type": "code",
      "source": [
        "!pip install python-dotenv -q"
      ],
      "metadata": {
        "colab": {
          "base_uri": "https://localhost:8080/"
        },
        "id": "x-lfvJi9ZSAM",
        "outputId": "cbe73561-ef7d-451b-f6da-3446ccc54a29"
      },
      "execution_count": 2,
      "outputs": [
        {
          "output_type": "stream",
          "name": "stdout",
          "text": [
            "Looking in indexes: https://pypi.org/simple, https://us-python.pkg.dev/colab-wheels/public/simple/\n",
            "Collecting python-dotenv\n",
            "  Downloading python_dotenv-0.21.0-py3-none-any.whl (18 kB)\n",
            "Installing collected packages: python-dotenv\n",
            "Successfully installed python-dotenv-0.21.0\n"
          ]
        }
      ]
    },
    {
      "cell_type": "markdown",
      "source": [
        "# Importing librairies\n"
      ],
      "metadata": {
        "id": "RchgEwekXBcT"
      }
    },
    {
      "cell_type": "code",
      "source": [
        "import spacy\n",
        "import classy_classification\n",
        "\n",
        "from dotenv import dotenv_values\n",
        "\n",
        "from google.colab import drive\n"
      ],
      "metadata": {
        "id": "0Mkofz7oXA36"
      },
      "execution_count": 12,
      "outputs": []
    },
    {
      "cell_type": "markdown",
      "source": [
        "# Importing environment variables"
      ],
      "metadata": {
        "id": "K0tNaCUqZTJe"
      }
    },
    {
      "cell_type": "code",
      "source": [
        "config = dotenv_values(\".env\")  "
      ],
      "metadata": {
        "id": "cyZevRZxZWza"
      },
      "execution_count": 5,
      "outputs": []
    },
    {
      "cell_type": "code",
      "source": [
        "config['dbname']"
      ],
      "metadata": {
        "colab": {
          "base_uri": "https://localhost:8080/",
          "height": 35
        },
        "id": "nNxgsIF8uQKX",
        "outputId": "767f8736-868e-4f3a-e5d5-83bc9167f16f"
      },
      "execution_count": 8,
      "outputs": [
        {
          "output_type": "execute_result",
          "data": {
            "text/plain": [
              "'mvppreproddb'"
            ],
            "application/vnd.google.colaboratory.intrinsic+json": {
              "type": "string"
            }
          },
          "metadata": {},
          "execution_count": 8
        }
      ]
    },
    {
      "cell_type": "markdown",
      "source": [
        "# Mounting drive"
      ],
      "metadata": {
        "id": "A0YS-VNTXGmn"
      }
    },
    {
      "cell_type": "code",
      "source": [
        "drive.mount('/content/drive')"
      ],
      "metadata": {
        "colab": {
          "base_uri": "https://localhost:8080/"
        },
        "id": "GfttqX5N10Or",
        "outputId": "a64b83e9-8164-43d9-97e7-c30f9b95f706"
      },
      "execution_count": 13,
      "outputs": [
        {
          "output_type": "stream",
          "name": "stdout",
          "text": [
            "Mounted at /content/drive\n"
          ]
        }
      ]
    },
    {
      "cell_type": "code",
      "source": [
        "gpu_info = !nvidia-smi\n",
        "gpu_info = '\\n'.join(gpu_info)\n",
        "if gpu_info.find('failed') >= 0:\n",
        "  print('Not connected to a GPU')\n",
        "else:\n",
        "  print(gpu_info)"
      ],
      "metadata": {
        "id": "fRPs_0GXy4rv",
        "colab": {
          "base_uri": "https://localhost:8080/"
        },
        "outputId": "28f82923-52ab-4a17-938e-3de1a3cc298c"
      },
      "execution_count": 14,
      "outputs": [
        {
          "output_type": "stream",
          "name": "stdout",
          "text": [
            "Wed Nov 23 13:45:08 2022       \n",
            "+-----------------------------------------------------------------------------+\n",
            "| NVIDIA-SMI 460.32.03    Driver Version: 460.32.03    CUDA Version: 11.2     |\n",
            "|-------------------------------+----------------------+----------------------+\n",
            "| GPU  Name        Persistence-M| Bus-Id        Disp.A | Volatile Uncorr. ECC |\n",
            "| Fan  Temp  Perf  Pwr:Usage/Cap|         Memory-Usage | GPU-Util  Compute M. |\n",
            "|                               |                      |               MIG M. |\n",
            "|===============================+======================+======================|\n",
            "|   0  A100-SXM4-40GB      Off  | 00000000:00:04.0 Off |                    0 |\n",
            "| N/A   31C    P0    49W / 400W |    658MiB / 40536MiB |      0%      Default |\n",
            "|                               |                      |             Disabled |\n",
            "+-------------------------------+----------------------+----------------------+\n",
            "                                                                               \n",
            "+-----------------------------------------------------------------------------+\n",
            "| Processes:                                                                  |\n",
            "|  GPU   GI   CI        PID   Type   Process name                  GPU Memory |\n",
            "|        ID   ID                                                   Usage      |\n",
            "|=============================================================================|\n",
            "+-----------------------------------------------------------------------------+\n"
          ]
        }
      ]
    },
    {
      "cell_type": "code",
      "source": [
        "from psutil import virtual_memory\n",
        "ram_gb = virtual_memory().total / 1e9\n",
        "print('Your runtime has {:.1f} gigabytes of available RAM\\n'.format(ram_gb))\n",
        "\n",
        "if ram_gb < 20:\n",
        "  print('Not using a high-RAM runtime')\n",
        "else:\n",
        "  print('You are using a high-RAM runtime!')"
      ],
      "metadata": {
        "colab": {
          "base_uri": "https://localhost:8080/"
        },
        "id": "RC9hu9Ik1tFp",
        "outputId": "22e57889-8fc6-4af0-f2d3-7133f8f3d909"
      },
      "execution_count": 15,
      "outputs": [
        {
          "output_type": "stream",
          "name": "stdout",
          "text": [
            "Your runtime has 89.6 gigabytes of available RAM\n",
            "\n",
            "You are using a high-RAM runtime!\n"
          ]
        }
      ]
    },
    {
      "cell_type": "markdown",
      "source": [
        "# Collecting the data"
      ],
      "metadata": {
        "id": "R4sjKmXAXuCv"
      }
    },
    {
      "cell_type": "markdown",
      "source": [
        "## From database"
      ],
      "metadata": {
        "id": "8l-2wz_7YKFK"
      }
    },
    {
      "cell_type": "markdown",
      "source": [
        "### pandas read_sql stream_results function"
      ],
      "metadata": {
        "id": "nrKeO22HYTCd"
      }
    },
    {
      "cell_type": "code",
      "source": [
        "import pandas as pd\n",
        "from sqlalchemy import create_engine\n",
        "from tqdm import tqdm\n",
        "tqdm.pandas()\n",
        "\n",
        "\n",
        "def getting_data_from_table(tablename=\"product\", chuncksize=100000):\n",
        "    engine = create_engine(\n",
        "        f\"postgresql://{config['user']}:{config['pwd']}@{config['hostname']}/{config['dbname']}\"\n",
        "    )\n",
        "    dfs = pd.DataFrame()\n",
        "    # First Round trip to get total items for monitoring purpose\n",
        "    total_items_df = pd.read_sql(\n",
        "        \"select count(*) from {} \".format(tablename), engine.connect())\n",
        "    total_items = total_items_df['count'][0]\n",
        "    total = int(total_items/chuncksize)+1\n",
        "\n",
        "    conn = engine.connect().execution_options(stream_results=True)\n",
        "    query = \"SELECT * FROM {} \".format(tablename)\n",
        "\n",
        "    i = 0\n",
        "    for chunk_dataframe in tqdm(pd.read_sql(query, conn, chunksize=chuncksize), desc=\"getting {} records from {} as dataframe using {} chunks\".format(total_items, tablename, total), total=total):\n",
        "        # print(f\"Got dataframe w/{len(chunk_dataframe)} rows\")\n",
        "        # ... do something with dataframe ...\n",
        "        dfs = pd.concat([dfs, chunk_dataframe])\n",
        "        # chunk_dataframe.to_pickle('../data/data_chunks/attributes_names/chunk_{}'.format(i))\n",
        "        # i = i+1\n",
        "    return dfs.replace(['', 'nan', 'NaN', 'NA', 'null'], [None, None, None,None, None])\n",
        "# if __name__ == '__main__':\n",
        "#     process_sql_using_pandas()\n",
        "\n"
      ],
      "metadata": {
        "id": "S3tQC06YXpGY"
      },
      "execution_count": 18,
      "outputs": []
    },
    {
      "cell_type": "markdown",
      "source": [
        "### Getting products from db"
      ],
      "metadata": {
        "id": "RhEcHkW_Yjqz"
      }
    },
    {
      "cell_type": "code",
      "source": [
        "products = getting_data_from_table(tablename=\"product\")\n"
      ],
      "metadata": {
        "colab": {
          "base_uri": "https://localhost:8080/"
        },
        "id": "42dJJcLuYi1e",
        "outputId": "0c0e4cc2-8896-4cf4-8150-3017403fb366"
      },
      "execution_count": 19,
      "outputs": [
        {
          "output_type": "stream",
          "name": "stderr",
          "text": [
            "getting 1693829 records from product as dataframe using 17 chunks: 100%|██████████| 17/17 [01:31<00:00,  5.40s/it]\n"
          ]
        }
      ]
    },
    {
      "cell_type": "code",
      "source": [
        "## From BI"
      ],
      "metadata": {
        "id": "TzlVH_G2vcAz"
      },
      "execution_count": 20,
      "outputs": []
    },
    {
      "cell_type": "markdown",
      "source": [
        "# Loading the data"
      ],
      "metadata": {
        "id": "rXfXbgTgXLuJ"
      }
    },
    {
      "cell_type": "code",
      "source": [
        "data = {\n",
        "    \"furniture\": [\"This text is about chairs.\",\n",
        "               \"Couches, benches and televisions.\",\n",
        "               \"I really need to get a new sofa.\"],\n",
        "    \"kitchen\": [\"There also exist things like fridges.\",\n",
        "                \"I hope to be getting a new stove today.\",\n",
        "                \"Do you also have some ovens.\"]\n",
        "}"
      ],
      "metadata": {
        "id": "foKXq7fSXKH0"
      },
      "execution_count": null,
      "outputs": []
    },
    {
      "cell_type": "code",
      "source": [
        "import pickle\n",
        "f = open('/content/drive/MyDrive/data.pkl', 'rb')\n",
        "data_db = pickle.load(f)\n",
        "f.close()"
      ],
      "metadata": {
        "colab": {
          "base_uri": "https://localhost:8080/",
          "height": 217
        },
        "id": "jh_liHD6Xc1t",
        "outputId": "1df1740e-d774-4715-81e2-4808b1a9d37a"
      },
      "execution_count": 3,
      "outputs": [
        {
          "output_type": "error",
          "ename": "UnpicklingError",
          "evalue": "ignored",
          "traceback": [
            "\u001b[0;31m---------------------------------------------------------------------------\u001b[0m",
            "\u001b[0;31mUnpicklingError\u001b[0m                           Traceback (most recent call last)",
            "\u001b[0;32m<ipython-input-3-cfe3e2f8b1bd>\u001b[0m in \u001b[0;36m<module>\u001b[0;34m\u001b[0m\n\u001b[1;32m      1\u001b[0m \u001b[0;32mimport\u001b[0m \u001b[0mpickle\u001b[0m\u001b[0;34m\u001b[0m\u001b[0;34m\u001b[0m\u001b[0m\n\u001b[1;32m      2\u001b[0m \u001b[0mf\u001b[0m \u001b[0;34m=\u001b[0m \u001b[0mopen\u001b[0m\u001b[0;34m(\u001b[0m\u001b[0;34m'/content/drive/MyDrive/data.pkl'\u001b[0m\u001b[0;34m,\u001b[0m \u001b[0;34m'rb'\u001b[0m\u001b[0;34m)\u001b[0m\u001b[0;34m\u001b[0m\u001b[0;34m\u001b[0m\u001b[0m\n\u001b[0;32m----> 3\u001b[0;31m \u001b[0mdata_db\u001b[0m \u001b[0;34m=\u001b[0m \u001b[0mpickle\u001b[0m\u001b[0;34m.\u001b[0m\u001b[0mload\u001b[0m\u001b[0;34m(\u001b[0m\u001b[0mf\u001b[0m\u001b[0;34m)\u001b[0m\u001b[0;34m\u001b[0m\u001b[0;34m\u001b[0m\u001b[0m\n\u001b[0m\u001b[1;32m      4\u001b[0m \u001b[0mf\u001b[0m\u001b[0;34m.\u001b[0m\u001b[0mclose\u001b[0m\u001b[0;34m(\u001b[0m\u001b[0;34m)\u001b[0m\u001b[0;34m\u001b[0m\u001b[0;34m\u001b[0m\u001b[0m\n",
            "\u001b[0;31mUnpicklingError\u001b[0m: unpickling stack underflow"
          ]
        }
      ]
    },
    {
      "cell_type": "markdown",
      "source": [
        "# Modeling"
      ],
      "metadata": {
        "id": "iKFb47B4X-L1"
      }
    },
    {
      "cell_type": "markdown",
      "source": [
        "## Classification using bert-base"
      ],
      "metadata": {
        "id": "q_p76-0qXQ2o"
      }
    },
    {
      "cell_type": "code",
      "source": [
        "nlp = spacy.blank(\"en\")\n",
        "nlp.add_pipe(\n",
        "    \"text_categorizer\",\n",
        "    config={\n",
        "        \"data\": data,\n",
        "        \"model\": \"bert-base-multilingual-cased\",\n",
        "        # \"cat_type\": \"zero\",\n",
        "        \"device\": \"gpu\"\n",
        "    }\n",
        ")\n",
        "\n",
        "print(nlp(\"I am looking for kitchen appliances.\")._.cats)\n",
        "\n",
        "# Output:\n",
        "#\n",
        "# [{\"label\": \"furniture\", \"score\": 0.21}, {\"label\": \"kitchen\", \"score\": 0.79}]"
      ],
      "metadata": {
        "colab": {
          "base_uri": "https://localhost:8080/",
          "height": 683,
          "referenced_widgets": [
            "0323fa84035d4bde84e477b865a3e5ff",
            "fe37352a87764ff6b7b9c9e3db5091f2",
            "0abfa3d655ae4f509fc71499c578526d",
            "83fe84c806ad45c6b77e9b2d30c0cdf9",
            "5c171c1d681f4cc794abf28720827b5f",
            "0195c151ac234bc58d898346672a6ed9",
            "d9f4e04e98214194a1bc9c7a955b11fa",
            "e1cbeb2412f24b12ade612aa2e8e8eec",
            "6395c38595354cd3bf67d6caaa1abbb5",
            "765bbfed17554b1fb2b9129c10d61f3e",
            "b79dd5913f534e4b845d26f1c9653dd8",
            "d95805f2920c4f7caa83ae8f45560caf",
            "0c38bff2f1a94be1a6fce34323baede7",
            "6e21a16450ec491abbc2b9939cf1dcbb",
            "4dc586a938ef494cb7fdda8b7d50aa39",
            "ed38618324dd4a0e8c2c6b1830b4e28b",
            "ac26f22b0a4f4dc2aeeccb8dd586318b",
            "510068ee9058422494d24aad2c942409",
            "cae0d99fb64f49b9b368de8f9e73c314",
            "8a23e6f244104546b6cd2ff22e7882d0",
            "1a3fa711d8bb40e78c8fe17dbf6305c4",
            "4b31b1412a424fcbb81b6b107affec90",
            "ab4be53b37134567a01e3af5986757ff",
            "d2eb39ec9f6d469286916b5ba6185c27",
            "c8e379cbe88f43d08cbacf8fdf3e4513",
            "2f482a3795094b518d5f194fc60b231e",
            "f6aeea5c749a4644b4bdc36e1b551ccc",
            "fdc6795bf74643db9e65a8909c77ade7",
            "a4da8a67ec6c41d59bc36e63ef60f87d",
            "1b8afa33cbcc4356ba169d0c86fb2655",
            "45cf05da51924709ada0680a36e0a490",
            "6c795c5429df4719a021d7fc8510bec7",
            "c73fdbfe1ce746fe877356ace132f1dc",
            "b6b587b5c6714ff5a3ecc3c9e6e05504",
            "56fa43ecd8054939af154de56d49e0e9",
            "2c0c8137d29d43068237c80b130430f7",
            "ee78fb45d30b4099a2575adcbdd3830a",
            "fcadb4552a0043ea9770bd09bb2b6772",
            "1a352344a40f4dbe92362e7c4b4ff6ed",
            "23121fd64d0b4b378e28f95577d57281",
            "cbe6e85ebc374af7bd01a91f52ef4cc2",
            "861fdaf9acec496bbf4adcf800aa60cd",
            "f59638aaa3bf46bead24145a4829d5e8",
            "80f03f53632b4b76a5fdbf148b40224a",
            "8701ddd8fc5949508cd1df3344a10058",
            "79969276b27141cd81accf34cb0440d1",
            "f89f3a85846b41fb9dd98ac490c4fd1b",
            "3ba36285ae7e49e9a36c9244d172a01f",
            "e9e76963742e4d199372295cec7d28e1",
            "6dbb5fa9c1404bc7b3b6c599a65105a7",
            "4646e07809934a89acf10eef6a0a3267",
            "3b588055682042bd9acaeea9b5a2a2e6",
            "8e33b2a16f7440e5b01c9fc676cfd1dd",
            "52e25c994cab4e0fb429f6a98109ec8a",
            "a5484ab160104c6bbc2980c456d93761"
          ]
        },
        "id": "u6bIM5B333UY",
        "outputId": "764cac2b-bcee-4569-b644-1f4d706639bd"
      },
      "execution_count": null,
      "outputs": [
        {
          "output_type": "display_data",
          "data": {
            "text/plain": [
              "Downloading config.json:   0%|          | 0.00/625 [00:00<?, ?B/s]"
            ],
            "application/vnd.jupyter.widget-view+json": {
              "version_major": 2,
              "version_minor": 0,
              "model_id": "0323fa84035d4bde84e477b865a3e5ff"
            }
          },
          "metadata": {}
        },
        {
          "output_type": "display_data",
          "data": {
            "text/plain": [
              "Downloading pytorch_model.bin:   0%|          | 0.00/681M [00:00<?, ?B/s]"
            ],
            "application/vnd.jupyter.widget-view+json": {
              "version_major": 2,
              "version_minor": 0,
              "model_id": "d95805f2920c4f7caa83ae8f45560caf"
            }
          },
          "metadata": {}
        },
        {
          "output_type": "stream",
          "name": "stderr",
          "text": [
            "Some weights of the model checkpoint at bert-base-multilingual-cased were not used when initializing BertModel: ['cls.seq_relationship.bias', 'cls.predictions.transform.LayerNorm.bias', 'cls.predictions.decoder.weight', 'cls.predictions.bias', 'cls.predictions.transform.dense.weight', 'cls.seq_relationship.weight', 'cls.predictions.transform.LayerNorm.weight', 'cls.predictions.transform.dense.bias']\n",
            "- This IS expected if you are initializing BertModel from the checkpoint of a model trained on another task or with another architecture (e.g. initializing a BertForSequenceClassification model from a BertForPreTraining model).\n",
            "- This IS NOT expected if you are initializing BertModel from the checkpoint of a model that you expect to be exactly identical (initializing a BertForSequenceClassification model from a BertForSequenceClassification model).\n"
          ]
        },
        {
          "output_type": "display_data",
          "data": {
            "text/plain": [
              "Downloading tokenizer_config.json:   0%|          | 0.00/29.0 [00:00<?, ?B/s]"
            ],
            "application/vnd.jupyter.widget-view+json": {
              "version_major": 2,
              "version_minor": 0,
              "model_id": "ab4be53b37134567a01e3af5986757ff"
            }
          },
          "metadata": {}
        },
        {
          "output_type": "display_data",
          "data": {
            "text/plain": [
              "Downloading vocab.txt:   0%|          | 0.00/972k [00:00<?, ?B/s]"
            ],
            "application/vnd.jupyter.widget-view+json": {
              "version_major": 2,
              "version_minor": 0,
              "model_id": "b6b587b5c6714ff5a3ecc3c9e6e05504"
            }
          },
          "metadata": {}
        },
        {
          "output_type": "display_data",
          "data": {
            "text/plain": [
              "Downloading tokenizer.json:   0%|          | 0.00/1.87M [00:00<?, ?B/s]"
            ],
            "application/vnd.jupyter.widget-view+json": {
              "version_major": 2,
              "version_minor": 0,
              "model_id": "8701ddd8fc5949508cd1df3344a10058"
            }
          },
          "metadata": {}
        },
        {
          "output_type": "stream",
          "name": "stdout",
          "text": [
            "Ignore MatMul due to non constant B: /[MatMul_149]\n",
            "Ignore MatMul due to non constant B: /[MatMul_154]\n",
            "Ignore MatMul due to non constant B: /[MatMul_243]\n",
            "Ignore MatMul due to non constant B: /[MatMul_248]\n",
            "Ignore MatMul due to non constant B: /[MatMul_337]\n",
            "Ignore MatMul due to non constant B: /[MatMul_342]\n",
            "Ignore MatMul due to non constant B: /[MatMul_431]\n",
            "Ignore MatMul due to non constant B: /[MatMul_436]\n",
            "Ignore MatMul due to non constant B: /[MatMul_525]\n",
            "Ignore MatMul due to non constant B: /[MatMul_530]\n",
            "Ignore MatMul due to non constant B: /[MatMul_619]\n",
            "Ignore MatMul due to non constant B: /[MatMul_624]\n",
            "Ignore MatMul due to non constant B: /[MatMul_713]\n",
            "Ignore MatMul due to non constant B: /[MatMul_718]\n",
            "Ignore MatMul due to non constant B: /[MatMul_807]\n",
            "Ignore MatMul due to non constant B: /[MatMul_812]\n",
            "Ignore MatMul due to non constant B: /[MatMul_901]\n",
            "Ignore MatMul due to non constant B: /[MatMul_906]\n",
            "Ignore MatMul due to non constant B: /[MatMul_995]\n",
            "Ignore MatMul due to non constant B: /[MatMul_1000]\n",
            "Ignore MatMul due to non constant B: /[MatMul_1089]\n",
            "Ignore MatMul due to non constant B: /[MatMul_1094]\n",
            "Ignore MatMul due to non constant B: /[MatMul_1183]\n",
            "Ignore MatMul due to non constant B: /[MatMul_1188]\n",
            "{'furniture': 0.5576871820253436, 'kitchen': 0.44231281797465644}\n"
          ]
        }
      ]
    },
    {
      "cell_type": "markdown",
      "source": [
        "## Classification using Spacy model"
      ],
      "metadata": {
        "id": "dDUlFIVVy5DF"
      }
    },
    {
      "cell_type": "code",
      "execution_count": null,
      "metadata": {
        "id": "RigywdIHkK0A"
      },
      "outputs": [],
      "source": [
        "data = {\n",
        "    \"furniture\": [\"This text is about chairs.\",\n",
        "               \"Couches, benches and televisions.\",\n",
        "               \"I really need to get a new sofa.\"],\n",
        "    \"kitchen\": [\"There also exist things like fridges.\",\n",
        "                \"I hope to be getting a new stove today.\",\n",
        "                \"Do you also have some ovens.\"]\n",
        "}\n",
        "\n",
        "nlp = spacy.blank(\"en\")\n",
        "nlp.add_pipe(\n",
        "    \"text_categorizer\",\n",
        "    config={\n",
        "        \"data\": data,\n",
        "        \"model\": \"Sahajtomar/french_semantic\",\n",
        "        \"device\": \"gpu\"\n",
        "    }\n",
        ")\n",
        "\n",
        "print(nlp(\"I am looking for kitchen appliances.\")._.cats)\n",
        "\n",
        "# Output:\n",
        "#\n",
        "# [{\"label\": \"furniture\", \"score\": 0.21}, {\"label\": \"kitchen\", \"score\": 0.79}]"
      ]
    },
    {
      "cell_type": "code",
      "source": [
        "print(nlp(\"texts about dinner tables have multiple labels.\")._.cats)"
      ],
      "metadata": {
        "colab": {
          "base_uri": "https://localhost:8080/"
        },
        "id": "eMobpFXLkQub",
        "outputId": "8c60b673-121b-4cef-d6f7-ff033c8215fd"
      },
      "execution_count": null,
      "outputs": [
        {
          "output_type": "stream",
          "name": "stdout",
          "text": [
            "{'furniture': 0.5728549746113443, 'kitchen': 0.4271450253886556}\n"
          ]
        }
      ]
    },
    {
      "cell_type": "code",
      "source": [],
      "metadata": {
        "id": "4W-W0jeUy9Zm"
      },
      "execution_count": null,
      "outputs": []
    },
    {
      "cell_type": "markdown",
      "source": [
        "## Classification using sentence transformer"
      ],
      "metadata": {
        "id": "AY7Y6ny0y-BA"
      }
    },
    {
      "cell_type": "code",
      "source": [
        "import pandas as pd \n",
        "\n",
        "bi_data = pd.read_csv('classification.csv', header=1)"
      ],
      "metadata": {
        "id": "0X7F7gvmCwZR"
      },
      "execution_count": 31,
      "outputs": []
    },
    {
      "cell_type": "code",
      "source": [
        "bi_data"
      ],
      "metadata": {
        "colab": {
          "base_uri": "https://localhost:8080/",
          "height": 424
        },
        "id": "8Vi52YjtFwav",
        "outputId": "d753d64c-2266-4ab2-dc41-b722c10c28f4"
      },
      "execution_count": 32,
      "outputs": [
        {
          "output_type": "execute_result",
          "data": {
            "text/plain": [
              "                           Supplier Name Procurement Type Procurement Tool  \\\n",
              "0                             SIEMENS AG         Punchout         Punchout   \n",
              "1                             SIEMENS AG         Punchout         Punchout   \n",
              "2                             SIEMENS AG         Punchout         Punchout   \n",
              "3                             SIEMENS AG         Punchout         Punchout   \n",
              "4                         Klaus Faber AG         Punchout         Punchout   \n",
              "...                                  ...              ...              ...   \n",
              "312997              Technische Unie B.V.         Punchout         Punchout   \n",
              "312998              Technische Unie B.V.         Punchout         Punchout   \n",
              "312999              Technische Unie B.V.         Punchout         Punchout   \n",
              "313000        ZUID NEDERLANDSE BUIZEN BV         Punchout         Punchout   \n",
              "313001  Solid Air Climate Solutions B.V.         Punchout         Punchout   \n",
              "\n",
              "                             PO Item Description  \\\n",
              "0       SINAMICS S120 Single Motor-Module Eingan   \n",
              "1       SIMATIC PCS 7 CPU 410 Redundancy Automat   \n",
              "2       SIMATIC PCS 7, Software, Upgrade Package   \n",
              "3       Einschub-Leistungsschalter mit Einschubr   \n",
              "4                                NYY-O 01X240 SW   \n",
              "...                                          ...   \n",
              "312997                    JUNG 1731DD DIM UN LED   \n",
              "312998                                    Credit   \n",
              "312999               GROH EUROECO/C T WASTKR K/W   \n",
              "313000                                   KORTING   \n",
              "313001                                    Credit   \n",
              "\n",
              "                                     PO Text  Unnamed: 5  Unnamed: 6  \n",
              "0                                        NaN   929372.74    0.006495  \n",
              "1                                        NaN   701391.00    0.004901  \n",
              "2                                        NaN   497655.39    0.003478  \n",
              "3                                        NaN   479175.91    0.003348  \n",
              "4                                        NaN   466938.91    0.003263  \n",
              "...                                      ...         ...         ...  \n",
              "312997                               6442683    -5492.98   -0.000038  \n",
              "312998  3ceb0349-b7b6-44f3-b3ed-07e620d23af0    -5741.77   -0.000040  \n",
              "312999                               4602769    -6144.13   -0.000043  \n",
              "313000                                   NaN   -21512.81   -0.000150  \n",
              "313001  5ffe0f11-59be-42c4-9fc1-e97fe0cba5bb   -22264.20   -0.000156  \n",
              "\n",
              "[313002 rows x 7 columns]"
            ],
            "text/html": [
              "\n",
              "  <div id=\"df-b09532b9-f055-4c8f-b90f-f323aac97a3a\">\n",
              "    <div class=\"colab-df-container\">\n",
              "      <div>\n",
              "<style scoped>\n",
              "    .dataframe tbody tr th:only-of-type {\n",
              "        vertical-align: middle;\n",
              "    }\n",
              "\n",
              "    .dataframe tbody tr th {\n",
              "        vertical-align: top;\n",
              "    }\n",
              "\n",
              "    .dataframe thead th {\n",
              "        text-align: right;\n",
              "    }\n",
              "</style>\n",
              "<table border=\"1\" class=\"dataframe\">\n",
              "  <thead>\n",
              "    <tr style=\"text-align: right;\">\n",
              "      <th></th>\n",
              "      <th>Supplier Name</th>\n",
              "      <th>Procurement Type</th>\n",
              "      <th>Procurement Tool</th>\n",
              "      <th>PO Item Description</th>\n",
              "      <th>PO Text</th>\n",
              "      <th>Unnamed: 5</th>\n",
              "      <th>Unnamed: 6</th>\n",
              "    </tr>\n",
              "  </thead>\n",
              "  <tbody>\n",
              "    <tr>\n",
              "      <th>0</th>\n",
              "      <td>SIEMENS AG</td>\n",
              "      <td>Punchout</td>\n",
              "      <td>Punchout</td>\n",
              "      <td>SINAMICS S120 Single Motor-Module Eingan</td>\n",
              "      <td>NaN</td>\n",
              "      <td>929372.74</td>\n",
              "      <td>0.006495</td>\n",
              "    </tr>\n",
              "    <tr>\n",
              "      <th>1</th>\n",
              "      <td>SIEMENS AG</td>\n",
              "      <td>Punchout</td>\n",
              "      <td>Punchout</td>\n",
              "      <td>SIMATIC PCS 7 CPU 410 Redundancy Automat</td>\n",
              "      <td>NaN</td>\n",
              "      <td>701391.00</td>\n",
              "      <td>0.004901</td>\n",
              "    </tr>\n",
              "    <tr>\n",
              "      <th>2</th>\n",
              "      <td>SIEMENS AG</td>\n",
              "      <td>Punchout</td>\n",
              "      <td>Punchout</td>\n",
              "      <td>SIMATIC PCS 7, Software, Upgrade Package</td>\n",
              "      <td>NaN</td>\n",
              "      <td>497655.39</td>\n",
              "      <td>0.003478</td>\n",
              "    </tr>\n",
              "    <tr>\n",
              "      <th>3</th>\n",
              "      <td>SIEMENS AG</td>\n",
              "      <td>Punchout</td>\n",
              "      <td>Punchout</td>\n",
              "      <td>Einschub-Leistungsschalter mit Einschubr</td>\n",
              "      <td>NaN</td>\n",
              "      <td>479175.91</td>\n",
              "      <td>0.003348</td>\n",
              "    </tr>\n",
              "    <tr>\n",
              "      <th>4</th>\n",
              "      <td>Klaus Faber AG</td>\n",
              "      <td>Punchout</td>\n",
              "      <td>Punchout</td>\n",
              "      <td>NYY-O 01X240 SW</td>\n",
              "      <td>NaN</td>\n",
              "      <td>466938.91</td>\n",
              "      <td>0.003263</td>\n",
              "    </tr>\n",
              "    <tr>\n",
              "      <th>...</th>\n",
              "      <td>...</td>\n",
              "      <td>...</td>\n",
              "      <td>...</td>\n",
              "      <td>...</td>\n",
              "      <td>...</td>\n",
              "      <td>...</td>\n",
              "      <td>...</td>\n",
              "    </tr>\n",
              "    <tr>\n",
              "      <th>312997</th>\n",
              "      <td>Technische Unie B.V.</td>\n",
              "      <td>Punchout</td>\n",
              "      <td>Punchout</td>\n",
              "      <td>JUNG 1731DD DIM UN LED</td>\n",
              "      <td>6442683</td>\n",
              "      <td>-5492.98</td>\n",
              "      <td>-0.000038</td>\n",
              "    </tr>\n",
              "    <tr>\n",
              "      <th>312998</th>\n",
              "      <td>Technische Unie B.V.</td>\n",
              "      <td>Punchout</td>\n",
              "      <td>Punchout</td>\n",
              "      <td>Credit</td>\n",
              "      <td>3ceb0349-b7b6-44f3-b3ed-07e620d23af0</td>\n",
              "      <td>-5741.77</td>\n",
              "      <td>-0.000040</td>\n",
              "    </tr>\n",
              "    <tr>\n",
              "      <th>312999</th>\n",
              "      <td>Technische Unie B.V.</td>\n",
              "      <td>Punchout</td>\n",
              "      <td>Punchout</td>\n",
              "      <td>GROH EUROECO/C T WASTKR K/W</td>\n",
              "      <td>4602769</td>\n",
              "      <td>-6144.13</td>\n",
              "      <td>-0.000043</td>\n",
              "    </tr>\n",
              "    <tr>\n",
              "      <th>313000</th>\n",
              "      <td>ZUID NEDERLANDSE BUIZEN BV</td>\n",
              "      <td>Punchout</td>\n",
              "      <td>Punchout</td>\n",
              "      <td>KORTING</td>\n",
              "      <td>NaN</td>\n",
              "      <td>-21512.81</td>\n",
              "      <td>-0.000150</td>\n",
              "    </tr>\n",
              "    <tr>\n",
              "      <th>313001</th>\n",
              "      <td>Solid Air Climate Solutions B.V.</td>\n",
              "      <td>Punchout</td>\n",
              "      <td>Punchout</td>\n",
              "      <td>Credit</td>\n",
              "      <td>5ffe0f11-59be-42c4-9fc1-e97fe0cba5bb</td>\n",
              "      <td>-22264.20</td>\n",
              "      <td>-0.000156</td>\n",
              "    </tr>\n",
              "  </tbody>\n",
              "</table>\n",
              "<p>313002 rows × 7 columns</p>\n",
              "</div>\n",
              "      <button class=\"colab-df-convert\" onclick=\"convertToInteractive('df-b09532b9-f055-4c8f-b90f-f323aac97a3a')\"\n",
              "              title=\"Convert this dataframe to an interactive table.\"\n",
              "              style=\"display:none;\">\n",
              "        \n",
              "  <svg xmlns=\"http://www.w3.org/2000/svg\" height=\"24px\"viewBox=\"0 0 24 24\"\n",
              "       width=\"24px\">\n",
              "    <path d=\"M0 0h24v24H0V0z\" fill=\"none\"/>\n",
              "    <path d=\"M18.56 5.44l.94 2.06.94-2.06 2.06-.94-2.06-.94-.94-2.06-.94 2.06-2.06.94zm-11 1L8.5 8.5l.94-2.06 2.06-.94-2.06-.94L8.5 2.5l-.94 2.06-2.06.94zm10 10l.94 2.06.94-2.06 2.06-.94-2.06-.94-.94-2.06-.94 2.06-2.06.94z\"/><path d=\"M17.41 7.96l-1.37-1.37c-.4-.4-.92-.59-1.43-.59-.52 0-1.04.2-1.43.59L10.3 9.45l-7.72 7.72c-.78.78-.78 2.05 0 2.83L4 21.41c.39.39.9.59 1.41.59.51 0 1.02-.2 1.41-.59l7.78-7.78 2.81-2.81c.8-.78.8-2.07 0-2.86zM5.41 20L4 18.59l7.72-7.72 1.47 1.35L5.41 20z\"/>\n",
              "  </svg>\n",
              "      </button>\n",
              "      \n",
              "  <style>\n",
              "    .colab-df-container {\n",
              "      display:flex;\n",
              "      flex-wrap:wrap;\n",
              "      gap: 12px;\n",
              "    }\n",
              "\n",
              "    .colab-df-convert {\n",
              "      background-color: #E8F0FE;\n",
              "      border: none;\n",
              "      border-radius: 50%;\n",
              "      cursor: pointer;\n",
              "      display: none;\n",
              "      fill: #1967D2;\n",
              "      height: 32px;\n",
              "      padding: 0 0 0 0;\n",
              "      width: 32px;\n",
              "    }\n",
              "\n",
              "    .colab-df-convert:hover {\n",
              "      background-color: #E2EBFA;\n",
              "      box-shadow: 0px 1px 2px rgba(60, 64, 67, 0.3), 0px 1px 3px 1px rgba(60, 64, 67, 0.15);\n",
              "      fill: #174EA6;\n",
              "    }\n",
              "\n",
              "    [theme=dark] .colab-df-convert {\n",
              "      background-color: #3B4455;\n",
              "      fill: #D2E3FC;\n",
              "    }\n",
              "\n",
              "    [theme=dark] .colab-df-convert:hover {\n",
              "      background-color: #434B5C;\n",
              "      box-shadow: 0px 1px 3px 1px rgba(0, 0, 0, 0.15);\n",
              "      filter: drop-shadow(0px 1px 2px rgba(0, 0, 0, 0.3));\n",
              "      fill: #FFFFFF;\n",
              "    }\n",
              "  </style>\n",
              "\n",
              "      <script>\n",
              "        const buttonEl =\n",
              "          document.querySelector('#df-b09532b9-f055-4c8f-b90f-f323aac97a3a button.colab-df-convert');\n",
              "        buttonEl.style.display =\n",
              "          google.colab.kernel.accessAllowed ? 'block' : 'none';\n",
              "\n",
              "        async function convertToInteractive(key) {\n",
              "          const element = document.querySelector('#df-b09532b9-f055-4c8f-b90f-f323aac97a3a');\n",
              "          const dataTable =\n",
              "            await google.colab.kernel.invokeFunction('convertToInteractive',\n",
              "                                                     [key], {});\n",
              "          if (!dataTable) return;\n",
              "\n",
              "          const docLinkHtml = 'Like what you see? Visit the ' +\n",
              "            '<a target=\"_blank\" href=https://colab.research.google.com/notebooks/data_table.ipynb>data table notebook</a>'\n",
              "            + ' to learn more about interactive tables.';\n",
              "          element.innerHTML = '';\n",
              "          dataTable['output_type'] = 'display_data';\n",
              "          await google.colab.output.renderOutput(dataTable, element);\n",
              "          const docLink = document.createElement('div');\n",
              "          docLink.innerHTML = docLinkHtml;\n",
              "          element.appendChild(docLink);\n",
              "        }\n",
              "      </script>\n",
              "    </div>\n",
              "  </div>\n",
              "  "
            ]
          },
          "metadata": {},
          "execution_count": 32
        }
      ]
    },
    {
      "cell_type": "code",
      "source": [
        "\n"
      ],
      "metadata": {
        "id": "Ntu4wsbPk29c",
        "colab": {
          "base_uri": "https://localhost:8080/",
          "height": 217
        },
        "outputId": "ed1ac9a8-fba1-4cdc-a059-b77781eb2d0e"
      },
      "execution_count": null,
      "outputs": [
        {
          "output_type": "error",
          "ename": "UnpicklingError",
          "evalue": "ignored",
          "traceback": [
            "\u001b[0;31m---------------------------------------------------------------------------\u001b[0m",
            "\u001b[0;31mUnpicklingError\u001b[0m                           Traceback (most recent call last)",
            "\u001b[0;32m<ipython-input-22-664cf0dad6d5>\u001b[0m in \u001b[0;36m<module>\u001b[0;34m\u001b[0m\n\u001b[1;32m      1\u001b[0m \u001b[0;32mimport\u001b[0m \u001b[0mpickle\u001b[0m\u001b[0;34m\u001b[0m\u001b[0;34m\u001b[0m\u001b[0m\n\u001b[1;32m      2\u001b[0m \u001b[0mf\u001b[0m \u001b[0;34m=\u001b[0m \u001b[0mopen\u001b[0m\u001b[0;34m(\u001b[0m\u001b[0;34m'/content/drive/MyDrive/data.pkl'\u001b[0m\u001b[0;34m,\u001b[0m \u001b[0;34m'rb'\u001b[0m\u001b[0;34m)\u001b[0m\u001b[0;34m\u001b[0m\u001b[0;34m\u001b[0m\u001b[0m\n\u001b[0;32m----> 3\u001b[0;31m \u001b[0mdata\u001b[0m \u001b[0;34m=\u001b[0m \u001b[0mpickle\u001b[0m\u001b[0;34m.\u001b[0m\u001b[0mload\u001b[0m\u001b[0;34m(\u001b[0m\u001b[0mf\u001b[0m\u001b[0;34m)\u001b[0m\u001b[0;34m\u001b[0m\u001b[0;34m\u001b[0m\u001b[0m\n\u001b[0m\u001b[1;32m      4\u001b[0m \u001b[0mf\u001b[0m\u001b[0;34m.\u001b[0m\u001b[0mclose\u001b[0m\u001b[0;34m(\u001b[0m\u001b[0;34m)\u001b[0m\u001b[0;34m\u001b[0m\u001b[0;34m\u001b[0m\u001b[0m\n",
            "\u001b[0;31mUnpicklingError\u001b[0m: unpickling stack underflow"
          ]
        }
      ]
    },
    {
      "cell_type": "code",
      "source": [
        "type(data)"
      ],
      "metadata": {
        "colab": {
          "base_uri": "https://localhost:8080/"
        },
        "id": "XkhQrG2PllEI",
        "outputId": "9b18d2f0-11a8-454a-a507-4d310f444357"
      },
      "execution_count": null,
      "outputs": [
        {
          "output_type": "execute_result",
          "data": {
            "text/plain": [
              "dict"
            ]
          },
          "metadata": {},
          "execution_count": 2
        }
      ]
    },
    {
      "cell_type": "code",
      "source": [
        "import pandas as pd\n",
        "data_df = pd.DataFrame(data)\n",
        "data_df.shape"
      ],
      "metadata": {
        "colab": {
          "base_uri": "https://localhost:8080/"
        },
        "id": "sfpnhB9zlrzE",
        "outputId": "48ceb21b-00ac-4129-f5ed-a435c467c503"
      },
      "execution_count": null,
      "outputs": [
        {
          "output_type": "execute_result",
          "data": {
            "text/plain": [
              "(413043, 40)"
            ]
          },
          "metadata": {},
          "execution_count": 3
        }
      ]
    },
    {
      "cell_type": "code",
      "source": [
        "data_df_clean = data_df.dropna()\n",
        "data_df_clean.shape"
      ],
      "metadata": {
        "colab": {
          "base_uri": "https://localhost:8080/"
        },
        "id": "H6vMUfqsl5Ah",
        "outputId": "390b4deb-0b78-4acf-88da-166760d014db"
      },
      "execution_count": null,
      "outputs": [
        {
          "output_type": "execute_result",
          "data": {
            "text/plain": [
              "(413009, 40)"
            ]
          },
          "metadata": {},
          "execution_count": 4
        }
      ]
    },
    {
      "cell_type": "code",
      "source": [
        "data = data_df_clean.to_dict(\"list\")"
      ],
      "metadata": {
        "id": "DH7oCW3dmIlh"
      },
      "execution_count": null,
      "outputs": []
    },
    {
      "cell_type": "code",
      "source": [
        "len(data)"
      ],
      "metadata": {
        "colab": {
          "base_uri": "https://localhost:8080/"
        },
        "id": "sDSv5IvUmfxU",
        "outputId": "3720e307-a5eb-4fa2-d248-14e545915a7d"
      },
      "execution_count": null,
      "outputs": [
        {
          "output_type": "execute_result",
          "data": {
            "text/plain": [
              "40"
            ]
          },
          "metadata": {},
          "execution_count": 6
        }
      ]
    },
    {
      "cell_type": "code",
      "source": [
        "nlp = spacy.blank(\"fr\")\n",
        "nlp.add_pipe(\n",
        "    \"text_categorizer\",\n",
        "    config={\n",
        "        \"data\": data,\n",
        "        \"model\": \"sentence-transformers/paraphrase-multilingual-MiniLM-L12-v2\",\n",
        "        \"device\": \"gpu\"\n",
        "    }\n",
        ")\n"
      ],
      "metadata": {
        "colab": {
          "base_uri": "https://localhost:8080/"
        },
        "id": "XQj3UCOFmo6f",
        "outputId": "fd4432ca-40f0-44fb-a449-39177d7a0463"
      },
      "execution_count": null,
      "outputs": [
        {
          "output_type": "stream",
          "name": "stdout",
          "text": [
            "Ignore MatMul due to non constant B: /[MatMul_149]\n",
            "Ignore MatMul due to non constant B: /[MatMul_154]\n",
            "Ignore MatMul due to non constant B: /[MatMul_243]\n",
            "Ignore MatMul due to non constant B: /[MatMul_248]\n",
            "Ignore MatMul due to non constant B: /[MatMul_337]\n",
            "Ignore MatMul due to non constant B: /[MatMul_342]\n",
            "Ignore MatMul due to non constant B: /[MatMul_431]\n",
            "Ignore MatMul due to non constant B: /[MatMul_436]\n",
            "Ignore MatMul due to non constant B: /[MatMul_525]\n",
            "Ignore MatMul due to non constant B: /[MatMul_530]\n",
            "Ignore MatMul due to non constant B: /[MatMul_619]\n",
            "Ignore MatMul due to non constant B: /[MatMul_624]\n",
            "Ignore MatMul due to non constant B: /[MatMul_713]\n",
            "Ignore MatMul due to non constant B: /[MatMul_718]\n",
            "Ignore MatMul due to non constant B: /[MatMul_807]\n",
            "Ignore MatMul due to non constant B: /[MatMul_812]\n",
            "Ignore MatMul due to non constant B: /[MatMul_901]\n",
            "Ignore MatMul due to non constant B: /[MatMul_906]\n",
            "Ignore MatMul due to non constant B: /[MatMul_995]\n",
            "Ignore MatMul due to non constant B: /[MatMul_1000]\n",
            "Ignore MatMul due to non constant B: /[MatMul_1089]\n",
            "Ignore MatMul due to non constant B: /[MatMul_1094]\n",
            "Ignore MatMul due to non constant B: /[MatMul_1183]\n",
            "Ignore MatMul due to non constant B: /[MatMul_1188]\n"
          ]
        }
      ]
    },
    {
      "cell_type": "code",
      "source": [
        "type(nlp)"
      ],
      "metadata": {
        "id": "091KwWK2x8Qf"
      },
      "execution_count": null,
      "outputs": []
    },
    {
      "cell_type": "code",
      "source": [
        "data_df_clean.iloc[3, :2]"
      ],
      "metadata": {
        "colab": {
          "base_uri": "https://localhost:8080/"
        },
        "id": "aiXMZ3NQuLSk",
        "outputId": "3d8641b4-233d-4ee3-d5b9-31e083dd09a7"
      },
      "execution_count": null,
      "outputs": [
        {
          "output_type": "execute_result",
          "data": {
            "text/plain": [
              "41    Copal Electronics Potentiomètre Rotatif 20kΩ 3...\n",
              "32    Condensateur tantale KEMET CMS 47μF 10V c.c. b...\n",
              "Name: 3, dtype: object"
            ]
          },
          "metadata": {},
          "execution_count": 31
        }
      ]
    },
    {
      "cell_type": "code",
      "source": [
        "max(nlp(\"Condensateur Crouzet, 480 V c.a., pour 825400\")._.cats, key=nlp(\"Condensateur Crouzet, 480 V c.a., pour 825400\")._.cats.get)"
      ],
      "metadata": {
        "colab": {
          "base_uri": "https://localhost:8080/",
          "height": 35
        },
        "id": "iDJ03t-xuzx9",
        "outputId": "fc67af71-d99b-4661-fdae-2e733c2bc7d1"
      },
      "execution_count": null,
      "outputs": [
        {
          "output_type": "execute_result",
          "data": {
            "text/plain": [
              "'26'"
            ],
            "application/vnd.google.colaboratory.intrinsic+json": {
              "type": "string"
            }
          },
          "metadata": {},
          "execution_count": 35
        }
      ]
    },
    {
      "cell_type": "code",
      "source": [
        "nlp(\"Condensateur Crouzet, 480 V c.a., pour 825400\")._.cats"
      ],
      "metadata": {
        "colab": {
          "base_uri": "https://localhost:8080/"
        },
        "id": "vbPj5sg3nEfu",
        "outputId": "bfd041d1-a2d4-48b0-dc6a-2732a1d7906b"
      },
      "execution_count": null,
      "outputs": [
        {
          "output_type": "execute_result",
          "data": {
            "text/plain": [
              "{'10': 0.00476714603033662,\n",
              " '11': 0.009471865317405612,\n",
              " '12': 0.02439224916973389,\n",
              " '13': 0.019857559123909265,\n",
              " '14': 0.004471647388392354,\n",
              " '15': 0.025325584801012706,\n",
              " '20': 0.006238648388988998,\n",
              " '21': 0.0026165190638884565,\n",
              " '22': 0.004260088257322503,\n",
              " '23': 0.022798049051493227,\n",
              " '24': 0.027921228164213063,\n",
              " '25': 0.014580753947029663,\n",
              " '26': 0.12490890930956529,\n",
              " '27': 0.030023244475532337,\n",
              " '30': 0.01686975154374761,\n",
              " '31': 0.03225414511108506,\n",
              " '32': 0.12487818263456757,\n",
              " '34': 0.016480075013015256,\n",
              " '39': 0.012888013668829086,\n",
              " '40': 0.06415657681883101,\n",
              " '41': 0.011870912457535457,\n",
              " '42': 0.02777276393272875,\n",
              " '43': 0.03424097832759138,\n",
              " '44': 0.0453848079850196,\n",
              " '45': 0.06512114117217559,\n",
              " '46': 0.02505363338400749,\n",
              " '47': 0.05152498952308339,\n",
              " '50': 0.003448615461080589,\n",
              " '52': 0.015066773861851844,\n",
              " '53': 0.0044097897133425,\n",
              " '54': 0.002824302608231271,\n",
              " '55': 0.021329691803715505,\n",
              " '56': 0.021958640067783988,\n",
              " '60': 0.019528080806045428,\n",
              " '72': 0.025961421049836814,\n",
              " '73': 0.006325180719357206,\n",
              " '77': 0.005658999233925024,\n",
              " '81': 0.011791529769863454,\n",
              " '83': 0.0021119952518337723,\n",
              " '95': 0.009455515592091982}"
            ]
          },
          "metadata": {},
          "execution_count": 36
        }
      ]
    },
    {
      "cell_type": "code",
      "source": [],
      "metadata": {
        "id": "dfPuXl9mtdqp"
      },
      "execution_count": null,
      "outputs": []
    }
  ]
}